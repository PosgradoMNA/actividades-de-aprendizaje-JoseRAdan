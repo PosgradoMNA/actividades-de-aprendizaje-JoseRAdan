{
  "nbformat": 4,
  "nbformat_minor": 0,
  "metadata": {
    "colab": {
      "name": "assignment01.ipynb",
      "provenance": [],
      "include_colab_link": true
    },
    "kernelspec": {
      "name": "python3",
      "display_name": "Python 3"
    },
    "language_info": {
      "name": "python"
    }
  },
  "cells": [
    {
      "cell_type": "markdown",
      "metadata": {
        "id": "view-in-github",
        "colab_type": "text"
      },
      "source": [
        "<a href=\"https://colab.research.google.com/github/PosgradoMNA/actividades-de-aprendizaje-JoseRAdan/blob/main/Semana%202%20-%20Actividad%201%3A%20Python%20for%20Data%20Science%20(IBM).ipynb\" target=\"_parent\"><img src=\"https://colab.research.google.com/assets/colab-badge.svg\" alt=\"Open In Colab\"/></a>"
      ]
    },
    {
      "cell_type": "markdown",
      "source": [
        "#**Semana 2 - Actividad 1**\n",
        "#**Python for Data Science - Módulo 4**\n",
        "\n",
        "###**Ciencia y Analítica de Datos**\n",
        "###**Nombre del estudiante: (José Ramiro Adán Charles)**\n",
        "###**Matrícula: (A00174646)**"
      ],
      "metadata": {
        "id": "PZ-e_gK8dIqV"
      }
    },
    {
      "cell_type": "markdown",
      "source": [
        "**NOTAS:**\n",
        "\n",
        "*Casi cualquier cosa con la que trabajamos en Pyhton es un objeto de una clase determinada*\n",
        "\n",
        "*Hay clases predefinidas y clases que se pueden crear*\n",
        "\n",
        "*La función type nos muestar de que clase es un objeto*\n",
        "\n",
        "# Learning Objectives\n",
        "\n",
        "\n",
        "\n",
        "1.   Reading files with open\n",
        "2.   Writing files with open\n",
        "3.   Loading data with Pandas\n",
        "4.   Working with and Saving data with Pandas\n",
        "\n",
        "\n"
      ],
      "metadata": {
        "id": "fK-Lmp38ud_Z"
      }
    },
    {
      "cell_type": "code",
      "source": [
        "#Reading files with open\n",
        "File1 = open()"
      ],
      "metadata": {
        "id": "mxM_WppZPMFx"
      },
      "execution_count": null,
      "outputs": []
    }
  ]
}