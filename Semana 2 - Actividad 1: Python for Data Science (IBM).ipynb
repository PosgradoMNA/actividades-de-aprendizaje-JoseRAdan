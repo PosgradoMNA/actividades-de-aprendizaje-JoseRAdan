{
  "nbformat": 4,
  "nbformat_minor": 0,
  "metadata": {
    "colab": {
      "name": "assignment01.ipynb",
      "provenance": [],
      "include_colab_link": true
    },
    "kernelspec": {
      "name": "python3",
      "display_name": "Python 3"
    },
    "language_info": {
      "name": "python"
    }
  },
  "cells": [
    {
      "cell_type": "markdown",
      "metadata": {
        "id": "view-in-github",
        "colab_type": "text"
      },
      "source": [
        "<a href=\"https://colab.research.google.com/github/PosgradoMNA/actividades-de-aprendizaje-JoseRAdan/blob/main/Semana%202%20-%20Actividad%201%3A%20Python%20for%20Data%20Science%20(IBM).ipynb\" target=\"_parent\"><img src=\"https://colab.research.google.com/assets/colab-badge.svg\" alt=\"Open In Colab\"/></a>"
      ]
    },
    {
      "cell_type": "markdown",
      "source": [
        "#**Semana 2 - Actividad 1**\n",
        "#**Python for Data Science - Módulo 4**\n",
        "\n",
        "###**Ciencia y Analítica de Datos**\n",
        "###**Nombre del estudiante: (José Ramiro Adán Charles)**\n",
        "###**Matrícula: (A00174646)**"
      ],
      "metadata": {
        "id": "PZ-e_gK8dIqV"
      }
    },
    {
      "cell_type": "markdown",
      "source": [
        "**NOTAS:**\n",
        "\n",
        "*Casi cualquier cosa con la que trabajamos en Pyhton es un objeto de una clase determinada*\n",
        "\n",
        "*Hay clases predefinidas y clases que se pueden crear*\n",
        "\n",
        "*La función type nos muestar de que clase es un objeto*\n",
        "\n",
        "# Learning Objectives\n",
        "\n",
        "\n",
        "\n",
        "1.   Reading files with open\n",
        "2.   Writing files with open\n",
        "3.   Loading data with Pandas\n",
        "4.   Working with and Saving data with Pandas\n",
        "\n",
        "\n"
      ],
      "metadata": {
        "id": "fK-Lmp38ud_Z"
      }
    },
    {
      "cell_type": "code",
      "source": [
        "#Reading files with open\n",
        "#File1 = open(\"/content/python_for_data_science/Example2.txt\", \"w\")\n",
        "#print(File1.name)\n",
        "with open(\"/content/python_for_data_science/Example2.txt\", \"r\") as File1:\n",
        "     file_stuff = File1.read()\n",
        "print(File1.closed)\n",
        "print(file_stuff)\n",
        "\n",
        "with open(\"/content/python_for_data_science/Example2.txt\", \"r\") as File1:\n",
        "     file_stuff = File1.readlines()\n",
        "print(File1.closed)\n",
        "print(file_stuff) "
      ],
      "metadata": {
        "id": "mxM_WppZPMFx",
        "colab": {
          "base_uri": "https://localhost:8080/"
        },
        "outputId": "ba40648b-9126-4dc4-b648-9ce8ee96bee9"
      },
      "execution_count": 7,
      "outputs": [
        {
          "output_type": "stream",
          "name": "stdout",
          "text": [
            "True\n",
            "Este es un\n",
            "ejercicio para\n",
            "la materia de\n",
            "Ciencia y analítica de datos\n",
            "True\n",
            "['Este es un\\n', 'ejercicio para\\n', 'la materia de\\n', 'Ciencia y analítica de datos']\n"
          ]
        }
      ]
    },
    {
      "cell_type": "code",
      "source": [
        "#Writting files with open\n",
        "File3 = open(\"/content/python_for_data_science/Example3.txt\", \"w\")\n",
        "print(File3.name)\n",
        "with open(\"/content/python_for_data_science/Example3.txt\", \"w\") as File3:\n",
        "  File3.write(\"This line A\\n\")\n",
        "  File3.write(\"This line B\\n\")\n",
        "#Reading the written file content\n",
        "with open(\"/content/python_for_data_science/Example3.txt\", \"r\") as File3:\n",
        "     file_stuff = File3.read()\n",
        "print(File3.closed)\n",
        "print(file_stuff)"
      ],
      "metadata": {
        "colab": {
          "base_uri": "https://localhost:8080/"
        },
        "id": "rFgPDfsC_R7o",
        "outputId": "cdb0bca8-8086-42bd-ab32-9022841df3db"
      },
      "execution_count": 12,
      "outputs": [
        {
          "output_type": "stream",
          "name": "stdout",
          "text": [
            "/content/python_for_data_science/Example3.txt\n",
            "True\n",
            "This line A\n",
            "This line B\n",
            "\n"
          ]
        }
      ]
    },
    {
      "cell_type": "markdown",
      "source": [
        "# Labs\n",
        "### **[Lab 1](https://github.com/PosgradoMNA/actividades-de-aprendizaje-JoseRAdan/blob/4e646afea898fcfdd26151a40cb857c9583107bc/Module%204_PY0101EN-4-1-ReadFile.ipynb)**\n",
        "\n",
        "### **[Lab 2](https://github.com/PosgradoMNA/actividades-de-aprendizaje-JoseRAdan/blob/4e646afea898fcfdd26151a40cb857c9583107bc/Module%204_PY0101EN-4-2-WriteFile.ipynb)**\n",
        "\n",
        "\n",
        "\n"
      ],
      "metadata": {
        "id": "ZV-cHl3158ma"
      }
    }
  ]
}