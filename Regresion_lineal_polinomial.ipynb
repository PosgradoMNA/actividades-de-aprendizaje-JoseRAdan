{
  "nbformat": 4,
  "nbformat_minor": 0,
  "metadata": {
    "kernelspec": {
      "display_name": "Python 3",
      "language": "python",
      "name": "python3"
    },
    "language_info": {
      "codemirror_mode": {
        "name": "ipython",
        "version": 3
      },
      "file_extension": ".py",
      "mimetype": "text/x-python",
      "name": "python",
      "nbconvert_exporter": "python",
      "pygments_lexer": "ipython3",
      "version": "3.7.7"
    },
    "colab": {
      "provenance": [],
      "collapsed_sections": [
        "_Rv-RJSnVQwR",
        "TIFwAtW1pc6h"
      ],
      "include_colab_link": true
    },
    "gpuClass": "standard"
  },
  "cells": [
    {
      "cell_type": "markdown",
      "metadata": {
        "id": "view-in-github",
        "colab_type": "text"
      },
      "source": [
        "<a href=\"https://colab.research.google.com/github/PosgradoMNA/actividades-de-aprendizaje-JoseRAdan/blob/main/Regresion_lineal_polinomial.ipynb\" target=\"_parent\"><img src=\"https://colab.research.google.com/assets/colab-badge.svg\" alt=\"Open In Colab\"/></a>"
      ]
    },
    {
      "cell_type": "markdown",
      "metadata": {
        "id": "WUO-kdryVQwK"
      },
      "source": [
        "# Linear Models\n"
      ]
    },
    {
      "cell_type": "markdown",
      "source": [
        "# Ciencia y analítica de datos\n",
        "\n",
        "###Profesor titular: Dra. Maria de la Paz Rico Fernandez\n",
        "\n",
        "###Alumno: José Ramiro Adán Charles - A00174646\n",
        "\n",
        "###Fecha: 9 de Noviembre de 2022\n"
      ],
      "metadata": {
        "id": "UNe-gvDO1xdj"
      }
    },
    {
      "cell_type": "markdown",
      "metadata": {
        "id": "u3ytB4LpVQwM"
      },
      "source": [
        "- In supervised learning, the training data fed to the algorithm includes the desired solutions, called labels. \n",
        "- In **regression**, the labels are continuous quantities.\n",
        "- Linear models predict by computing a weighted sum of input features plus a bias term."
      ]
    },
    {
      "cell_type": "code",
      "metadata": {
        "id": "HMp_I4Y6VQwN"
      },
      "source": [
        "import numpy as np\n",
        "%matplotlib inline\n",
        "import matplotlib\n",
        "import matplotlib.pyplot as plt\n",
        "import pandas as pd\n",
        "import seaborn as sns\n",
        "# to make this notebook's output stable across runs\n",
        "np.random.seed(42)"
      ],
      "execution_count": 205,
      "outputs": []
    },
    {
      "cell_type": "code",
      "source": [
        "5-2"
      ],
      "metadata": {
        "colab": {
          "base_uri": "https://localhost:8080/",
          "height": 0
        },
        "id": "exg6xSYf3F5D",
        "outputId": "45222f1f-38c2-47ec-cde8-cdb2b8ad288a"
      },
      "execution_count": 206,
      "outputs": [
        {
          "output_type": "execute_result",
          "data": {
            "text/plain": [
              "3"
            ]
          },
          "metadata": {},
          "execution_count": 206
        }
      ]
    },
    {
      "cell_type": "markdown",
      "metadata": {
        "id": "szpzFXgiVQwN"
      },
      "source": [
        "## Simple Linear Regression\n",
        "\n",
        "Simple linear regression equation:\n",
        "\n",
        "$y = ax + b$\n",
        "<br>\n",
        "$a$: slope\n",
        "<br>\n",
        "$b$: intercept\n",
        "\n",
        "Generate linear-looking data with the equation:\n",
        "\n",
        "$y = 3X + 4 + noise$"
      ]
    },
    {
      "cell_type": "code",
      "metadata": {
        "colab": {
          "base_uri": "https://localhost:8080/",
          "height": 0
        },
        "id": "mitJFYeiMQqD",
        "outputId": "6ccd5902-355b-4597-80d7-4c2fe11b77d8"
      },
      "source": [
        "np.random.rand(100, 1)"
      ],
      "execution_count": 207,
      "outputs": [
        {
          "output_type": "execute_result",
          "data": {
            "text/plain": [
              "array([[0.37454012],\n",
              "       [0.95071431],\n",
              "       [0.73199394],\n",
              "       [0.59865848],\n",
              "       [0.15601864],\n",
              "       [0.15599452],\n",
              "       [0.05808361],\n",
              "       [0.86617615],\n",
              "       [0.60111501],\n",
              "       [0.70807258],\n",
              "       [0.02058449],\n",
              "       [0.96990985],\n",
              "       [0.83244264],\n",
              "       [0.21233911],\n",
              "       [0.18182497],\n",
              "       [0.18340451],\n",
              "       [0.30424224],\n",
              "       [0.52475643],\n",
              "       [0.43194502],\n",
              "       [0.29122914],\n",
              "       [0.61185289],\n",
              "       [0.13949386],\n",
              "       [0.29214465],\n",
              "       [0.36636184],\n",
              "       [0.45606998],\n",
              "       [0.78517596],\n",
              "       [0.19967378],\n",
              "       [0.51423444],\n",
              "       [0.59241457],\n",
              "       [0.04645041],\n",
              "       [0.60754485],\n",
              "       [0.17052412],\n",
              "       [0.06505159],\n",
              "       [0.94888554],\n",
              "       [0.96563203],\n",
              "       [0.80839735],\n",
              "       [0.30461377],\n",
              "       [0.09767211],\n",
              "       [0.68423303],\n",
              "       [0.44015249],\n",
              "       [0.12203823],\n",
              "       [0.49517691],\n",
              "       [0.03438852],\n",
              "       [0.9093204 ],\n",
              "       [0.25877998],\n",
              "       [0.66252228],\n",
              "       [0.31171108],\n",
              "       [0.52006802],\n",
              "       [0.54671028],\n",
              "       [0.18485446],\n",
              "       [0.96958463],\n",
              "       [0.77513282],\n",
              "       [0.93949894],\n",
              "       [0.89482735],\n",
              "       [0.59789998],\n",
              "       [0.92187424],\n",
              "       [0.0884925 ],\n",
              "       [0.19598286],\n",
              "       [0.04522729],\n",
              "       [0.32533033],\n",
              "       [0.38867729],\n",
              "       [0.27134903],\n",
              "       [0.82873751],\n",
              "       [0.35675333],\n",
              "       [0.28093451],\n",
              "       [0.54269608],\n",
              "       [0.14092422],\n",
              "       [0.80219698],\n",
              "       [0.07455064],\n",
              "       [0.98688694],\n",
              "       [0.77224477],\n",
              "       [0.19871568],\n",
              "       [0.00552212],\n",
              "       [0.81546143],\n",
              "       [0.70685734],\n",
              "       [0.72900717],\n",
              "       [0.77127035],\n",
              "       [0.07404465],\n",
              "       [0.35846573],\n",
              "       [0.11586906],\n",
              "       [0.86310343],\n",
              "       [0.62329813],\n",
              "       [0.33089802],\n",
              "       [0.06355835],\n",
              "       [0.31098232],\n",
              "       [0.32518332],\n",
              "       [0.72960618],\n",
              "       [0.63755747],\n",
              "       [0.88721274],\n",
              "       [0.47221493],\n",
              "       [0.11959425],\n",
              "       [0.71324479],\n",
              "       [0.76078505],\n",
              "       [0.5612772 ],\n",
              "       [0.77096718],\n",
              "       [0.4937956 ],\n",
              "       [0.52273283],\n",
              "       [0.42754102],\n",
              "       [0.02541913],\n",
              "       [0.10789143]])"
            ]
          },
          "metadata": {},
          "execution_count": 207
        }
      ]
    },
    {
      "cell_type": "code",
      "metadata": {
        "colab": {
          "base_uri": "https://localhost:8080/",
          "height": 265
        },
        "id": "QyubE1VEVQwN",
        "outputId": "42a9aeee-7266-482a-9027-f6f19bcd9b2a"
      },
      "source": [
        "X = 2*np.random.rand(100, 1)\n",
        "y = 4 + 3 * X + np.random.randn(100, 1)\n",
        "plt.scatter(X, y);"
      ],
      "execution_count": 208,
      "outputs": [
        {
          "output_type": "display_data",
          "data": {
            "text/plain": [
              "<Figure size 432x288 with 1 Axes>"
            ],
            "image/png": "[encoded data removed]"
          },
          "metadata": {
            "needs_background": "light"
          }
        }
      ]
    },
    {
      "cell_type": "code",
      "source": [
        "import pandas as pd\n",
        "pd.DataFrame(y)"
      ],
      "metadata": {
        "colab": {
          "base_uri": "https://localhost:8080/",
          "height": 424
        },
        "id": "M5kaENJ4bZY5",
        "outputId": "118595a3-3b21-4241-adfb-d5843525b0f3"
      },
      "execution_count": 209,
      "outputs": [
        {
          "output_type": "execute_result",
          "data": {
            "text/plain": [
              "            0\n",
              "0    3.508550\n",
              "1    8.050716\n",
              "2    6.179208\n",
              "3    6.337073\n",
              "4   11.311173\n",
              "..        ...\n",
              "95   5.441928\n",
              "96  10.121188\n",
              "97   9.787643\n",
              "98   8.061635\n",
              "99   9.597115\n",
              "\n",
              "[100 rows x 1 columns]"
            ],
            "text/html": [
              "\n",
              "  <div id=\"df-1f0d3355-754e-4550-83ec-86714aeff75a\">\n",
              "    <div class=\"colab-df-container\">\n",
              "      <div>\n",
              "<style scoped>\n",
              "    .dataframe tbody tr th:only-of-type {\n",
              "        vertical-align: middle;\n",
              "    }\n",
              "\n",
              "    .dataframe tbody tr th {\n",
              "        vertical-align: top;\n",
              "    }\n",
              "\n",
              "    .dataframe thead th {\n",
              "        text-align: right;\n",
              "    }\n",
              "</style>\n",
              "<table border=\"1\" class=\"dataframe\">\n",
              "  <thead>\n",
              "    <tr style=\"text-align: right;\">\n",
              "      <th></th>\n",
              "      <th>0</th>\n",
              "    </tr>\n",
              "  </thead>\n",
              "  <tbody>\n",
              "    <tr>\n",
              "      <th>0</th>\n",
              "      <td>3.508550</td>\n",
              "    </tr>\n",
              "    <tr>\n",
              "      <th>1</th>\n",
              "      <td>8.050716</td>\n",
              "    </tr>\n",
              "    <tr>\n",
              "      <th>2</th>\n",
              "      <td>6.179208</td>\n",
              "    </tr>\n",
              "    <tr>\n",
              "      <th>3</th>\n",
              "      <td>6.337073</td>\n",
              "    </tr>\n",
              "    <tr>\n",
              "      <th>4</th>\n",
              "      <td>11.311173</td>\n",
              "    </tr>\n",
              "    <tr>\n",
              "      <th>...</th>\n",
              "      <td>...</td>\n",
              "    </tr>\n",
              "    <tr>\n",
              "      <th>95</th>\n",
              "      <td>5.441928</td>\n",
              "    </tr>\n",
              "    <tr>\n",
              "      <th>96</th>\n",
              "      <td>10.121188</td>\n",
              "    </tr>\n",
              "    <tr>\n",
              "      <th>97</th>\n",
              "      <td>9.787643</td>\n",
              "    </tr>\n",
              "    <tr>\n",
              "      <th>98</th>\n",
              "      <td>8.061635</td>\n",
              "    </tr>\n",
              "    <tr>\n",
              "      <th>99</th>\n",
              "      <td>9.597115</td>\n",
              "    </tr>\n",
              "  </tbody>\n",
              "</table>\n",
              "<p>100 rows × 1 columns</p>\n",
              "</div>\n",
              "      <button class=\"colab-df-convert\" onclick=\"convertToInteractive('df-1f0d3355-754e-4550-83ec-86714aeff75a')\"\n",
              "              title=\"Convert this dataframe to an interactive table.\"\n",
              "              style=\"display:none;\">\n",
              "        \n",
              "  <svg xmlns=\"http://www.w3.org/2000/svg\" height=\"24px\"viewBox=\"0 0 24 24\"\n",
              "       width=\"24px\">\n",
              "    <path d=\"M0 0h24v24H0V0z\" fill=\"none\"/>\n",
              "    <path d=\"M18.56 5.44l.94 2.06.94-2.06 2.06-.94-2.06-.94-.94-2.06-.94 2.06-2.06.94zm-11 1L8.5 8.5l.94-2.06 2.06-.94-2.06-.94L8.5 2.5l-.94 2.06-2.06.94zm10 10l.94 2.06.94-2.06 2.06-.94-2.06-.94-.94-2.06-.94 2.06-2.06.94z\"/><path d=\"M17.41 7.96l-1.37-1.37c-.4-.4-.92-.59-1.43-.59-.52 0-1.04.2-1.43.59L10.3 9.45l-7.72 7.72c-.78.78-.78 2.05 0 2.83L4 21.41c.39.39.9.59 1.41.59.51 0 1.02-.2 1.41-.59l7.78-7.78 2.81-2.81c.8-.78.8-2.07 0-2.86zM5.41 20L4 18.59l7.72-7.72 1.47 1.35L5.41 20z\"/>\n",
              "  </svg>\n",
              "      </button>\n",
              "      \n",
              "  <style>\n",
              "    .colab-df-container {\n",
              "      display:flex;\n",
              "      flex-wrap:wrap;\n",
              "      gap: 12px;\n",
              "    }\n",
              "\n",
              "    .colab-df-convert {\n",
              "      background-color: #E8F0FE;\n",
              "      border: none;\n",
              "      border-radius: 50%;\n",
              "      cursor: pointer;\n",
              "      display: none;\n",
              "      fill: #1967D2;\n",
              "      height: 32px;\n",
              "      padding: 0 0 0 0;\n",
              "      width: 32px;\n",
              "    }\n",
              "\n",
              "    .colab-df-convert:hover {\n",
              "      background-color: #E2EBFA;\n",
              "      box-shadow: 0px 1px 2px rgba(60, 64, 67, 0.3), 0px 1px 3px 1px rgba(60, 64, 67, 0.15);\n",
              "      fill: #174EA6;\n",
              "    }\n",
              "\n",
              "    [theme=dark] .colab-df-convert {\n",
              "      background-color: #3B4455;\n",
              "      fill: #D2E3FC;\n",
              "    }\n",
              "\n",
              "    [theme=dark] .colab-df-convert:hover {\n",
              "      background-color: #434B5C;\n",
              "      box-shadow: 0px 1px 3px 1px rgba(0, 0, 0, 0.15);\n",
              "      filter: drop-shadow(0px 1px 2px rgba(0, 0, 0, 0.3));\n",
              "      fill: #FFFFFF;\n",
              "    }\n",
              "  </style>\n",
              "\n",
              "      <script>\n",
              "        const buttonEl =\n",
              "          document.querySelector('#df-1f0d3355-754e-4550-83ec-86714aeff75a button.colab-df-convert');\n",
              "        buttonEl.style.display =\n",
              "          google.colab.kernel.accessAllowed ? 'block' : 'none';\n",
              "\n",
              "        async function convertToInteractive(key) {\n",
              "          const element = document.querySelector('#df-1f0d3355-754e-4550-83ec-86714aeff75a');\n",
              "          const dataTable =\n",
              "            await google.colab.kernel.invokeFunction('convertToInteractive',\n",
              "                                                     [key], {});\n",
              "          if (!dataTable) return;\n",
              "\n",
              "          const docLinkHtml = 'Like what you see? Visit the ' +\n",
              "            '<a target=\"_blank\" href=https://colab.research.google.com/notebooks/data_table.ipynb>data table notebook</a>'\n",
              "            + ' to learn more about interactive tables.';\n",
              "          element.innerHTML = '';\n",
              "          dataTable['output_type'] = 'display_data';\n",
              "          await google.colab.output.renderOutput(dataTable, element);\n",
              "          const docLink = document.createElement('div');\n",
              "          docLink.innerHTML = docLinkHtml;\n",
              "          element.appendChild(docLink);\n",
              "        }\n",
              "      </script>\n",
              "    </div>\n",
              "  </div>\n",
              "  "
            ]
          },
          "metadata": {},
          "execution_count": 209
        }
      ]
    },
    {
      "cell_type": "code",
      "metadata": {
        "colab": {
          "base_uri": "https://localhost:8080/",
          "height": 0
        },
        "id": "x6XGt_iAVQwO",
        "outputId": "3b8ef48f-2dd6-44a2-86c7-9596d3c52547"
      },
      "source": [
        "from sklearn.linear_model import LinearRegression\n",
        "\n",
        "linear_reg = LinearRegression(fit_intercept=True)\n",
        "linear_reg.fit(X, y)"
      ],
      "execution_count": 210,
      "outputs": [
        {
          "output_type": "execute_result",
          "data": {
            "text/plain": [
              "LinearRegression()"
            ]
          },
          "metadata": {},
          "execution_count": 210
        }
      ]
    },
    {
      "cell_type": "markdown",
      "metadata": {
        "id": "Hnm9YgjbVQwO"
      },
      "source": [
        "Plot the model's predictions:"
      ]
    },
    {
      "cell_type": "code",
      "metadata": {
        "id": "9NtrLfGGVQwP"
      },
      "source": [
        "#X_fit[]"
      ],
      "execution_count": 211,
      "outputs": []
    },
    {
      "cell_type": "code",
      "metadata": {
        "colab": {
          "base_uri": "https://localhost:8080/",
          "height": 287
        },
        "id": "1ZTT31igVQwP",
        "outputId": "c0d0b6d8-871e-4268-96b9-7e2a49ebc12e"
      },
      "source": [
        "# construct best fit line\n",
        "X_fit = np.linspace(0, 2, 100)\n",
        "y_fit = linear_reg.predict(X_fit[:, np.newaxis])\n",
        "\n",
        "plt.scatter(X, y)\n",
        "plt.plot(X_fit, y_fit, \"r-\", linewidth=2, label=\"Predictions\")\n",
        "plt.xlabel(\"$X$\", fontsize=18)\n",
        "plt.ylabel(\"$y$\", rotation=0, fontsize=18)\n",
        "plt.legend(loc=\"upper left\", fontsize=14);"
      ],
      "execution_count": 212,
      "outputs": [
        {
          "output_type": "display_data",
          "data": {
            "text/plain": [
              "<Figure size 432x288 with 1 Axes>"
            ],
            "image/png": "[encoded data removed]"
          },
          "metadata": {
            "needs_background": "light"
          }
        }
      ]
    },
    {
      "cell_type": "markdown",
      "metadata": {
        "id": "kIfOsEcWVQwP"
      },
      "source": [
        "Predictions are a good fit."
      ]
    },
    {
      "cell_type": "markdown",
      "metadata": {
        "id": "z2VYUeGrVQwQ"
      },
      "source": [
        "Generate new data to make predictions with the model:"
      ]
    },
    {
      "cell_type": "code",
      "metadata": {
        "colab": {
          "base_uri": "https://localhost:8080/",
          "height": 0
        },
        "id": "FuEd0Wp0VQwQ",
        "outputId": "0871a2c9-7ee3-41db-d0c8-860ce5469b90"
      },
      "source": [
        "X_new = np.array([[0], [2]])\n",
        "X_new"
      ],
      "execution_count": 213,
      "outputs": [
        {
          "output_type": "execute_result",
          "data": {
            "text/plain": [
              "array([[0],\n",
              "       [2]])"
            ]
          },
          "metadata": {},
          "execution_count": 213
        }
      ]
    },
    {
      "cell_type": "code",
      "metadata": {
        "colab": {
          "base_uri": "https://localhost:8080/",
          "height": 0
        },
        "id": "lLCnLm7_VQwQ",
        "outputId": "a093745b-b709-43aa-d9c3-6a47c6cee081"
      },
      "source": [
        "X_new.shape"
      ],
      "execution_count": 214,
      "outputs": [
        {
          "output_type": "execute_result",
          "data": {
            "text/plain": [
              "(2, 1)"
            ]
          },
          "metadata": {},
          "execution_count": 214
        }
      ]
    },
    {
      "cell_type": "code",
      "metadata": {
        "colab": {
          "base_uri": "https://localhost:8080/",
          "height": 0
        },
        "id": "zJIzUfZsVQwQ",
        "outputId": "6ca5189d-aa95-4ff0-a395-024f950083ce"
      },
      "source": [
        "y_new = linear_reg.predict(X_new)\n",
        "y_new"
      ],
      "execution_count": 215,
      "outputs": [
        {
          "output_type": "execute_result",
          "data": {
            "text/plain": [
              "array([[ 3.74406122],\n",
              "       [10.47517611]])"
            ]
          },
          "metadata": {},
          "execution_count": 215
        }
      ]
    },
    {
      "cell_type": "code",
      "metadata": {
        "colab": {
          "base_uri": "https://localhost:8080/",
          "height": 0
        },
        "id": "ICiEnkbdVQwQ",
        "outputId": "02820381-d30b-4580-a6b4-c19fcc5297b8"
      },
      "source": [
        " linear_reg.coef_, linear_reg.intercept_"
      ],
      "execution_count": 216,
      "outputs": [
        {
          "output_type": "execute_result",
          "data": {
            "text/plain": [
              "(array([[3.36555744]]), array([3.74406122]))"
            ]
          },
          "metadata": {},
          "execution_count": 216
        }
      ]
    },
    {
      "cell_type": "markdown",
      "metadata": {
        "id": "iBXzOecgVQwR"
      },
      "source": [
        "The model estimates:\n",
        "\n",
        "$\\hat{y} = 3.36X + 3.74$"
      ]
    },
    {
      "cell_type": "code",
      "metadata": {
        "id": "ZNvipq0wQYfj"
      },
      "source": [
        "#|VENTAS|GANANCIAS|\n",
        "#COEF*VENTAS+B\n",
        "#|VENTAS|COMPRAS|GANANCIAS|\n",
        "#COEF1*X1+COEF2*X2+B=Y"
      ],
      "execution_count": 217,
      "outputs": []
    },
    {
      "cell_type": "markdown",
      "metadata": {
        "id": "_Rv-RJSnVQwR"
      },
      "source": [
        "## Polynomial Regression\n",
        "\n",
        "If data is more complex than a straight line, you can use a linear model ti fit non-linear data adding powers of each feature as new features and then train a linear model on the extended set of features. "
      ]
    },
    {
      "cell_type": "markdown",
      "metadata": {
        "id": "dPrpAVsZVQwR"
      },
      "source": [
        "$$y = a_0 + a_1x_1 + a_2x_2 + a_3x_3 + ...$$ to $$y = a_0 + a_1x + a_2x^2 + a_3x^3+ ...$$ "
      ]
    },
    {
      "cell_type": "markdown",
      "metadata": {
        "id": "9kjMWzEfVQwR"
      },
      "source": [
        "This is still a linear model, the linearity refers to the fact that the coefficients never multiply or divide each other."
      ]
    },
    {
      "cell_type": "markdown",
      "metadata": {
        "id": "2M3fp_CSVQwR"
      },
      "source": [
        "To generate polynomial data we use the function:\n",
        "\n",
        "$y = 0.50X^2 + X + 2 + noise$"
      ]
    },
    {
      "cell_type": "code",
      "metadata": {
        "id": "sSrueMnPVQwR"
      },
      "source": [
        "# generate non-linear data e.g. quadratic equation\n",
        "m = 100\n",
        "X = 6 * np.random.rand(m, 1) - 3\n",
        "y = 0.5 * X**2 + X + 2 + np.random.randn(m, 1)"
      ],
      "execution_count": 218,
      "outputs": []
    },
    {
      "cell_type": "code",
      "metadata": {
        "colab": {
          "base_uri": "https://localhost:8080/",
          "height": 0
        },
        "id": "GNQQoXkMVQwS",
        "outputId": "c3f3e924-a6cf-4e40-bb86-1963f2e27d34"
      },
      "source": [
        "plt.plot(X, y, \"b.\")\n",
        "plt.xlabel(\"$x_1$\", fontsize=18)\n",
        "plt.ylabel(\"$y$\", rotation=0, fontsize=18)\n",
        "plt.axis([-3, 3, 0, 10]);"
      ],
      "execution_count": 219,
      "outputs": [
        {
          "output_type": "display_data",
          "data": {
            "text/plain": [
              "<Figure size 432x288 with 1 Axes>"
            ],
            "image/png": "[encoded data removed]"
          },
          "metadata": {
            "needs_background": "light"
          }
        }
      ]
    },
    {
      "cell_type": "code",
      "source": [
        "import pandas as pd\n",
        "pd.DataFrame(y)"
      ],
      "metadata": {
        "id": "YtaK_dsidNcP",
        "outputId": "3f569811-390d-4334-8bd2-c626c52cf8c4",
        "colab": {
          "base_uri": "https://localhost:8080/",
          "height": 0
        }
      },
      "execution_count": 220,
      "outputs": [
        {
          "output_type": "execute_result",
          "data": {
            "text/plain": [
              "           0\n",
              "0   8.529240\n",
              "1   3.768929\n",
              "2   3.354423\n",
              "3   2.747935\n",
              "4   0.808458\n",
              "..       ...\n",
              "95  5.346771\n",
              "96  6.338229\n",
              "97  3.488785\n",
              "98  1.372002\n",
              "99 -0.072150\n",
              "\n",
              "[100 rows x 1 columns]"
            ],
            "text/html": [
              "\n",
              "  <div id=\"df-4192ce09-8042-4a40-af84-933815e49ac5\">\n",
              "    <div class=\"colab-df-container\">\n",
              "      <div>\n",
              "<style scoped>\n",
              "    .dataframe tbody tr th:only-of-type {\n",
              "        vertical-align: middle;\n",
              "    }\n",
              "\n",
              "    .dataframe tbody tr th {\n",
              "        vertical-align: top;\n",
              "    }\n",
              "\n",
              "    .dataframe thead th {\n",
              "        text-align: right;\n",
              "    }\n",
              "</style>\n",
              "<table border=\"1\" class=\"dataframe\">\n",
              "  <thead>\n",
              "    <tr style=\"text-align: right;\">\n",
              "      <th></th>\n",
              "      <th>0</th>\n",
              "    </tr>\n",
              "  </thead>\n",
              "  <tbody>\n",
              "    <tr>\n",
              "      <th>0</th>\n",
              "      <td>8.529240</td>\n",
              "    </tr>\n",
              "    <tr>\n",
              "      <th>1</th>\n",
              "      <td>3.768929</td>\n",
              "    </tr>\n",
              "    <tr>\n",
              "      <th>2</th>\n",
              "      <td>3.354423</td>\n",
              "    </tr>\n",
              "    <tr>\n",
              "      <th>3</th>\n",
              "      <td>2.747935</td>\n",
              "    </tr>\n",
              "    <tr>\n",
              "      <th>4</th>\n",
              "      <td>0.808458</td>\n",
              "    </tr>\n",
              "    <tr>\n",
              "      <th>...</th>\n",
              "      <td>...</td>\n",
              "    </tr>\n",
              "    <tr>\n",
              "      <th>95</th>\n",
              "      <td>5.346771</td>\n",
              "    </tr>\n",
              "    <tr>\n",
              "      <th>96</th>\n",
              "      <td>6.338229</td>\n",
              "    </tr>\n",
              "    <tr>\n",
              "      <th>97</th>\n",
              "      <td>3.488785</td>\n",
              "    </tr>\n",
              "    <tr>\n",
              "      <th>98</th>\n",
              "      <td>1.372002</td>\n",
              "    </tr>\n",
              "    <tr>\n",
              "      <th>99</th>\n",
              "      <td>-0.072150</td>\n",
              "    </tr>\n",
              "  </tbody>\n",
              "</table>\n",
              "<p>100 rows × 1 columns</p>\n",
              "</div>\n",
              "      <button class=\"colab-df-convert\" onclick=\"convertToInteractive('df-4192ce09-8042-4a40-af84-933815e49ac5')\"\n",
              "              title=\"Convert this dataframe to an interactive table.\"\n",
              "              style=\"display:none;\">\n",
              "        \n",
              "  <svg xmlns=\"http://www.w3.org/2000/svg\" height=\"24px\"viewBox=\"0 0 24 24\"\n",
              "       width=\"24px\">\n",
              "    <path d=\"M0 0h24v24H0V0z\" fill=\"none\"/>\n",
              "    <path d=\"M18.56 5.44l.94 2.06.94-2.06 2.06-.94-2.06-.94-.94-2.06-.94 2.06-2.06.94zm-11 1L8.5 8.5l.94-2.06 2.06-.94-2.06-.94L8.5 2.5l-.94 2.06-2.06.94zm10 10l.94 2.06.94-2.06 2.06-.94-2.06-.94-.94-2.06-.94 2.06-2.06.94z\"/><path d=\"M17.41 7.96l-1.37-1.37c-.4-.4-.92-.59-1.43-.59-.52 0-1.04.2-1.43.59L10.3 9.45l-7.72 7.72c-.78.78-.78 2.05 0 2.83L4 21.41c.39.39.9.59 1.41.59.51 0 1.02-.2 1.41-.59l7.78-7.78 2.81-2.81c.8-.78.8-2.07 0-2.86zM5.41 20L4 18.59l7.72-7.72 1.47 1.35L5.41 20z\"/>\n",
              "  </svg>\n",
              "      </button>\n",
              "      \n",
              "  <style>\n",
              "    .colab-df-container {\n",
              "      display:flex;\n",
              "      flex-wrap:wrap;\n",
              "      gap: 12px;\n",
              "    }\n",
              "\n",
              "    .colab-df-convert {\n",
              "      background-color: #E8F0FE;\n",
              "      border: none;\n",
              "      border-radius: 50%;\n",
              "      cursor: pointer;\n",
              "      display: none;\n",
              "      fill: #1967D2;\n",
              "      height: 32px;\n",
              "      padding: 0 0 0 0;\n",
              "      width: 32px;\n",
              "    }\n",
              "\n",
              "    .colab-df-convert:hover {\n",
              "      background-color: #E2EBFA;\n",
              "      box-shadow: 0px 1px 2px rgba(60, 64, 67, 0.3), 0px 1px 3px 1px rgba(60, 64, 67, 0.15);\n",
              "      fill: #174EA6;\n",
              "    }\n",
              "\n",
              "    [theme=dark] .colab-df-convert {\n",
              "      background-color: #3B4455;\n",
              "      fill: #D2E3FC;\n",
              "    }\n",
              "\n",
              "    [theme=dark] .colab-df-convert:hover {\n",
              "      background-color: #434B5C;\n",
              "      box-shadow: 0px 1px 3px 1px rgba(0, 0, 0, 0.15);\n",
              "      filter: drop-shadow(0px 1px 2px rgba(0, 0, 0, 0.3));\n",
              "      fill: #FFFFFF;\n",
              "    }\n",
              "  </style>\n",
              "\n",
              "      <script>\n",
              "        const buttonEl =\n",
              "          document.querySelector('#df-4192ce09-8042-4a40-af84-933815e49ac5 button.colab-df-convert');\n",
              "        buttonEl.style.display =\n",
              "          google.colab.kernel.accessAllowed ? 'block' : 'none';\n",
              "\n",
              "        async function convertToInteractive(key) {\n",
              "          const element = document.querySelector('#df-4192ce09-8042-4a40-af84-933815e49ac5');\n",
              "          const dataTable =\n",
              "            await google.colab.kernel.invokeFunction('convertToInteractive',\n",
              "                                                     [key], {});\n",
              "          if (!dataTable) return;\n",
              "\n",
              "          const docLinkHtml = 'Like what you see? Visit the ' +\n",
              "            '<a target=\"_blank\" href=https://colab.research.google.com/notebooks/data_table.ipynb>data table notebook</a>'\n",
              "            + ' to learn more about interactive tables.';\n",
              "          element.innerHTML = '';\n",
              "          dataTable['output_type'] = 'display_data';\n",
              "          await google.colab.output.renderOutput(dataTable, element);\n",
              "          const docLink = document.createElement('div');\n",
              "          docLink.innerHTML = docLinkHtml;\n",
              "          element.appendChild(docLink);\n",
              "        }\n",
              "      </script>\n",
              "    </div>\n",
              "  </div>\n",
              "  "
            ]
          },
          "metadata": {},
          "execution_count": 220
        }
      ]
    },
    {
      "cell_type": "markdown",
      "metadata": {
        "id": "vrZTRaLNVQwS"
      },
      "source": [
        "Now we can use `PolynomialFeatues` to transform training data adding the square of each feature as new features."
      ]
    },
    {
      "cell_type": "code",
      "metadata": {
        "id": "BXo0Hm56VQwS"
      },
      "source": [
        "from sklearn.preprocessing import PolynomialFeatures\n",
        "\n",
        "poly_features = PolynomialFeatures(degree=2, include_bias=False)\n",
        "X_poly = poly_features.fit_transform(X)"
      ],
      "execution_count": 221,
      "outputs": []
    },
    {
      "cell_type": "code",
      "metadata": {
        "colab": {
          "base_uri": "https://localhost:8080/",
          "height": 0
        },
        "id": "1FqY9-I4VQwS",
        "outputId": "d9ee5fee-c41a-4c80-e83b-5f981cb3a87f"
      },
      "source": [
        "X_poly"
      ],
      "execution_count": 222,
      "outputs": [
        {
          "output_type": "execute_result",
          "data": {
            "text/plain": [
              "array([[ 2.72919168e+00,  7.44848725e+00],\n",
              "       [ 1.42738150e+00,  2.03741795e+00],\n",
              "       [ 3.26124315e-01,  1.06357069e-01],\n",
              "       [ 6.70324477e-01,  4.49334905e-01],\n",
              "       [-4.82399625e-01,  2.32709399e-01],\n",
              "       [-1.51361406e+00,  2.29102753e+00],\n",
              "       [-8.64163928e-01,  7.46779295e-01],\n",
              "       [ 1.54707666e+00,  2.39344620e+00],\n",
              "       [-2.91363907e+00,  8.48929262e+00],\n",
              "       [-2.30356416e+00,  5.30640783e+00],\n",
              "       [-2.72398415e+00,  7.42008964e+00],\n",
              "       [-2.75562719e+00,  7.59348119e+00],\n",
              "       [ 2.13276350e+00,  4.54868016e+00],\n",
              "       [ 1.22194716e+00,  1.49315485e+00],\n",
              "       [-1.54957025e-01,  2.40116797e-02],\n",
              "       [-2.41299504e+00,  5.82254504e+00],\n",
              "       [-5.03047493e-02,  2.53056780e-03],\n",
              "       [-1.59169375e-01,  2.53348900e-02],\n",
              "       [-1.96078878e+00,  3.84469264e+00],\n",
              "       [-3.96890105e-01,  1.57521755e-01],\n",
              "       [-6.08971594e-01,  3.70846402e-01],\n",
              "       [ 6.95100588e-01,  4.83164828e-01],\n",
              "       [ 8.10561905e-01,  6.57010602e-01],\n",
              "       [-2.72817594e+00,  7.44294397e+00],\n",
              "       [-7.52324312e-01,  5.65991871e-01],\n",
              "       [ 7.55159494e-01,  5.70265862e-01],\n",
              "       [ 1.88175515e-02,  3.54100244e-04],\n",
              "       [ 2.13893905e+00,  4.57506025e+00],\n",
              "       [ 9.52161790e-01,  9.06612074e-01],\n",
              "       [-2.02239344e+00,  4.09007522e+00],\n",
              "       [-2.57658752e+00,  6.63880323e+00],\n",
              "       [ 8.54515669e-01,  7.30197029e-01],\n",
              "       [-2.84093214e+00,  8.07089541e+00],\n",
              "       [ 5.14653488e-01,  2.64868212e-01],\n",
              "       [ 2.64138145e+00,  6.97689596e+00],\n",
              "       [ 4.52845067e-01,  2.05068655e-01],\n",
              "       [-6.70980443e-01,  4.50214755e-01],\n",
              "       [ 8.59729311e-01,  7.39134488e-01],\n",
              "       [-2.50482657e-01,  6.27415615e-02],\n",
              "       [ 2.73700736e-01,  7.49120928e-02],\n",
              "       [ 2.64878885e+00,  7.01608239e+00],\n",
              "       [-6.83384173e-01,  4.67013928e-01],\n",
              "       [ 2.76714338e+00,  7.65708250e+00],\n",
              "       [ 2.43210385e+00,  5.91512915e+00],\n",
              "       [-1.82525319e+00,  3.33154921e+00],\n",
              "       [-2.58383219e+00,  6.67618881e+00],\n",
              "       [-2.39533199e+00,  5.73761535e+00],\n",
              "       [-2.89066905e+00,  8.35596753e+00],\n",
              "       [-2.43334224e+00,  5.92115443e+00],\n",
              "       [ 1.09804064e+00,  1.20569325e+00],\n",
              "       [-2.57286811e+00,  6.61965031e+00],\n",
              "       [-1.08614622e+00,  1.17971361e+00],\n",
              "       [ 2.06925187e+00,  4.28180328e+00],\n",
              "       [-2.86036839e+00,  8.18170730e+00],\n",
              "       [ 1.88681090e+00,  3.56005536e+00],\n",
              "       [-1.30887135e+00,  1.71314421e+00],\n",
              "       [-2.29101103e+00,  5.24873156e+00],\n",
              "       [ 1.18042299e+00,  1.39339844e+00],\n",
              "       [ 7.73657081e-01,  5.98545278e-01],\n",
              "       [ 2.26483208e+00,  5.12946436e+00],\n",
              "       [ 1.41042626e+00,  1.98930224e+00],\n",
              "       [ 1.82088558e+00,  3.31562430e+00],\n",
              "       [-1.30779256e+00,  1.71032139e+00],\n",
              "       [-1.93536274e+00,  3.74562893e+00],\n",
              "       [ 1.50368851e+00,  2.26107913e+00],\n",
              "       [ 1.84100844e+00,  3.38931206e+00],\n",
              "       [ 2.94303085e+00,  8.66143060e+00],\n",
              "       [-5.24293939e-01,  2.74884134e-01],\n",
              "       [-7.67891485e-01,  5.89657333e-01],\n",
              "       [ 1.65847776e+00,  2.75054850e+00],\n",
              "       [-9.55178758e-01,  9.12366461e-01],\n",
              "       [ 2.58454395e+00,  6.67986745e+00],\n",
              "       [ 2.15047651e+00,  4.62454922e+00],\n",
              "       [-4.26035836e-01,  1.81506533e-01],\n",
              "       [ 1.50522641e+00,  2.26570654e+00],\n",
              "       [ 1.52725724e+00,  2.33251469e+00],\n",
              "       [-2.38125679e+00,  5.67038389e+00],\n",
              "       [ 2.41531744e+00,  5.83375834e+00],\n",
              "       [ 3.15142347e-02,  9.93146988e-04],\n",
              "       [ 1.95874480e+00,  3.83668118e+00],\n",
              "       [-1.07970239e+00,  1.16575726e+00],\n",
              "       [ 2.37313937e+00,  5.63179047e+00],\n",
              "       [-6.64789928e-01,  4.41945648e-01],\n",
              "       [-2.93497409e+00,  8.61407292e+00],\n",
              "       [ 2.43229186e+00,  5.91604369e+00],\n",
              "       [-2.45227994e+00,  6.01367690e+00],\n",
              "       [-1.08411817e+00,  1.17531222e+00],\n",
              "       [ 2.70037180e+00,  7.29200787e+00],\n",
              "       [ 2.70364288e+00,  7.30968483e+00],\n",
              "       [ 4.40627329e-01,  1.94152443e-01],\n",
              "       [ 7.91023273e-01,  6.25717818e-01],\n",
              "       [-3.09326868e-01,  9.56831113e-02],\n",
              "       [-1.24073537e+00,  1.53942426e+00],\n",
              "       [-1.02801273e+00,  1.05681017e+00],\n",
              "       [ 1.03511074e+00,  1.07145424e+00],\n",
              "       [ 1.51424718e+00,  2.29294451e+00],\n",
              "       [ 1.74947426e+00,  3.06066019e+00],\n",
              "       [ 1.73770886e+00,  3.01963207e+00],\n",
              "       [-2.45276338e+00,  6.01604821e+00],\n",
              "       [-3.34781718e-02,  1.12078799e-03]])"
            ]
          },
          "metadata": {},
          "execution_count": 222
        }
      ]
    },
    {
      "cell_type": "markdown",
      "metadata": {
        "id": "GrFMRU_eVQwS"
      },
      "source": [
        "`X_poly` now contains the original feature of X plus the square of the feature:"
      ]
    },
    {
      "cell_type": "code",
      "metadata": {
        "colab": {
          "base_uri": "https://localhost:8080/",
          "height": 0
        },
        "id": "M8FH1dY2UwgN",
        "outputId": "b75038ad-4541-4ff1-cc22-a37197bc2292"
      },
      "source": [
        "print(X[0])\n",
        "print(X[0]*X[0])\n"
      ],
      "execution_count": 223,
      "outputs": [
        {
          "output_type": "stream",
          "name": "stdout",
          "text": [
            "[2.72919168]\n",
            "[7.44848725]\n"
          ]
        }
      ]
    },
    {
      "cell_type": "code",
      "metadata": {
        "colab": {
          "base_uri": "https://localhost:8080/",
          "height": 0
        },
        "id": "PSflPniWVQwT",
        "outputId": "2f9f512c-ce86-4b49-acd4-8d5dfe3e71e0"
      },
      "source": [
        "X_poly[0]"
      ],
      "execution_count": 224,
      "outputs": [
        {
          "output_type": "execute_result",
          "data": {
            "text/plain": [
              "array([2.72919168, 7.44848725])"
            ]
          },
          "metadata": {},
          "execution_count": 224
        }
      ]
    },
    {
      "cell_type": "markdown",
      "metadata": {
        "id": "HaXjXg7FVQwT"
      },
      "source": [
        "Fit the model to this extended training data:"
      ]
    },
    {
      "cell_type": "code",
      "metadata": {
        "colab": {
          "base_uri": "https://localhost:8080/",
          "height": 0
        },
        "id": "c0Qu93dgVQwT",
        "outputId": "1636b694-75e8-424f-9775-8ed895d26246"
      },
      "source": [
        "lin_reg = LinearRegression(fit_intercept=True)\n",
        "lin_reg.fit(X_poly, y)\n",
        "lin_reg.coef_, lin_reg.intercept_"
      ],
      "execution_count": 225,
      "outputs": [
        {
          "output_type": "execute_result",
          "data": {
            "text/plain": [
              "(array([[1.04271531, 0.50866711]]), array([2.01873554]))"
            ]
          },
          "metadata": {},
          "execution_count": 225
        }
      ]
    },
    {
      "cell_type": "markdown",
      "metadata": {
        "id": "rKOSwvnmVQwT"
      },
      "source": [
        "The model estimates:\n",
        "\n",
        "$\\hat{y} =  0.89X +0.48X^2 + 2.09$"
      ]
    },
    {
      "cell_type": "markdown",
      "metadata": {
        "id": "_EtZEKz5VQwT"
      },
      "source": [
        "Plot the data and the predictions:"
      ]
    },
    {
      "cell_type": "code",
      "metadata": {
        "colab": {
          "base_uri": "https://localhost:8080/",
          "height": 0
        },
        "id": "6Q8dHRgdVQwT",
        "outputId": "cd5f5c6e-10df-4bb9-a062-231bc133e70c"
      },
      "source": [
        "X_new=np.linspace(-3, 3, 100).reshape(100, 1)\n",
        "X_new_poly = poly_features.transform(X_new)\n",
        "y_new = lin_reg.predict(X_new_poly)\n",
        "plt.plot(X, y, \"b.\")\n",
        "plt.plot(X_new, y_new, \"r-\", linewidth=2, label=\"Predictions\")\n",
        "plt.xlabel(\"$x_1$\", fontsize=18)\n",
        "plt.ylabel(\"$y$\", rotation=0, fontsize=18)\n",
        "plt.legend(loc=\"upper left\", fontsize=14)\n",
        "plt.axis([-3, 3, 0, 10]);"
      ],
      "execution_count": 226,
      "outputs": [
        {
          "output_type": "display_data",
          "data": {
            "text/plain": [
              "<Figure size 432x288 with 1 Axes>"
            ],
            "image/png": "[encoded data removed]"
          },
          "metadata": {
            "needs_background": "light"
          }
        }
      ]
    },
    {
      "cell_type": "code",
      "source": [],
      "metadata": {
        "id": "vyq0o8f2pcqa"
      },
      "execution_count": 226,
      "outputs": []
    },
    {
      "cell_type": "markdown",
      "source": [
        "## R square\n",
        "\n",
        "R² es una medida estadística de qué tan cerca están los datos de la línea de regresión ajustada. También se conoce como el coeficiente de determinación o el coeficiente de determinación múltiple para la regresión múltiple. Para decirlo en un lenguaje más simple, R² es una medida de ajuste para los modelos de regresión lineal.\n",
        "\n",
        "\n",
        "\n",
        "R² no indica si un modelo de regresión se ajusta adecuadamente a sus datos. Un buen modelo puede tener un valor R² bajo. Por otro lado, un modelo sesgado puede tener un valor alto de R².\n",
        "\n",
        " SSres + SSreg = SStot, R² = Explained variation / Total Variation\n",
        " \n",
        " ![image.png](https://i.stack.imgur.com/xb1VY.png)\n",
        " \n",
        "![image.png](https://3.bp.blogspot.com/-MFqQLwbGwd4/WMO7tz39beI/AAAAAAAAF9I/Bjpfohgv_5E4lu7HzHJBQtXsBM--byqPwCLcB/s1600/rsquared.png)\n"
      ],
      "metadata": {
        "id": "TIFwAtW1pc6h"
      }
    },
    {
      "cell_type": "markdown",
      "metadata": {
        "id": "nTKFj4x9LMXm"
      },
      "source": [
        "# Ejercicio 1\n",
        "\n",
        "Utiliza la base de datos de \n",
        "https://www.kaggle.com/vinicius150987/manufacturing-cost\n",
        "\n",
        "Suponga que trabaja como consultor de una empresa de nueva creación que busca desarrollar un modelo para estimar el costo de los bienes vendidos a medida que varían el volumen de producción (número de unidades producidas). La startup recopiló datos y le pidió que desarrollara un modelo para predecir su costo frente a la cantidad de unidades vendidas."
      ]
    },
    {
      "cell_type": "code",
      "metadata": {
        "colab": {
          "base_uri": "https://localhost:8080/",
          "height": 363
        },
        "id": "oTnErQOkL3oa",
        "outputId": "35ef2174-b03f-4261-b303-627f0b38e5df"
      },
      "source": [
        "import pandas as pd\n",
        "df = pd.read_csv('https://raw.githubusercontent.com/marypazrf/bdd/main/EconomiesOfScale.csv')\n",
        "df.sample(10)"
      ],
      "execution_count": 227,
      "outputs": [
        {
          "output_type": "execute_result",
          "data": {
            "text/plain": [
              "     Number of Units  Manufacturing Cost\n",
              "968         7.065653           27.804027\n",
              "212         3.372115           41.127212\n",
              "416         4.194513           43.832711\n",
              "677         5.068888           41.225741\n",
              "550         4.604122           37.569764\n",
              "764         5.389522           31.191501\n",
              "386         4.104190           42.988730\n",
              "339         3.942214           46.291435\n",
              "82          2.665856           48.578425\n",
              "487         4.399514           37.567914"
            ],
            "text/html": [
              "\n",
              "  <div id=\"df-d7971461-956c-45c3-977c-5c577bc4261c\">\n",
              "    <div class=\"colab-df-container\">\n",
              "      <div>\n",
              "<style scoped>\n",
              "    .dataframe tbody tr th:only-of-type {\n",
              "        vertical-align: middle;\n",
              "    }\n",
              "\n",
              "    .dataframe tbody tr th {\n",
              "        vertical-align: top;\n",
              "    }\n",
              "\n",
              "    .dataframe thead th {\n",
              "        text-align: right;\n",
              "    }\n",
              "</style>\n",
              "<table border=\"1\" class=\"dataframe\">\n",
              "  <thead>\n",
              "    <tr style=\"text-align: right;\">\n",
              "      <th></th>\n",
              "      <th>Number of Units</th>\n",
              "      <th>Manufacturing Cost</th>\n",
              "    </tr>\n",
              "  </thead>\n",
              "  <tbody>\n",
              "    <tr>\n",
              "      <th>968</th>\n",
              "      <td>7.065653</td>\n",
              "      <td>27.804027</td>\n",
              "    </tr>\n",
              "    <tr>\n",
              "      <th>212</th>\n",
              "      <td>3.372115</td>\n",
              "      <td>41.127212</td>\n",
              "    </tr>\n",
              "    <tr>\n",
              "      <th>416</th>\n",
              "      <td>4.194513</td>\n",
              "      <td>43.832711</td>\n",
              "    </tr>\n",
              "    <tr>\n",
              "      <th>677</th>\n",
              "      <td>5.068888</td>\n",
              "      <td>41.225741</td>\n",
              "    </tr>\n",
              "    <tr>\n",
              "      <th>550</th>\n",
              "      <td>4.604122</td>\n",
              "      <td>37.569764</td>\n",
              "    </tr>\n",
              "    <tr>\n",
              "      <th>764</th>\n",
              "      <td>5.389522</td>\n",
              "      <td>31.191501</td>\n",
              "    </tr>\n",
              "    <tr>\n",
              "      <th>386</th>\n",
              "      <td>4.104190</td>\n",
              "      <td>42.988730</td>\n",
              "    </tr>\n",
              "    <tr>\n",
              "      <th>339</th>\n",
              "      <td>3.942214</td>\n",
              "      <td>46.291435</td>\n",
              "    </tr>\n",
              "    <tr>\n",
              "      <th>82</th>\n",
              "      <td>2.665856</td>\n",
              "      <td>48.578425</td>\n",
              "    </tr>\n",
              "    <tr>\n",
              "      <th>487</th>\n",
              "      <td>4.399514</td>\n",
              "      <td>37.567914</td>\n",
              "    </tr>\n",
              "  </tbody>\n",
              "</table>\n",
              "</div>\n",
              "      <button class=\"colab-df-convert\" onclick=\"convertToInteractive('df-d7971461-956c-45c3-977c-5c577bc4261c')\"\n",
              "              title=\"Convert this dataframe to an interactive table.\"\n",
              "              style=\"display:none;\">\n",
              "        \n",
              "  <svg xmlns=\"http://www.w3.org/2000/svg\" height=\"24px\"viewBox=\"0 0 24 24\"\n",
              "       width=\"24px\">\n",
              "    <path d=\"M0 0h24v24H0V0z\" fill=\"none\"/>\n",
              "    <path d=\"M18.56 5.44l.94 2.06.94-2.06 2.06-.94-2.06-.94-.94-2.06-.94 2.06-2.06.94zm-11 1L8.5 8.5l.94-2.06 2.06-.94-2.06-.94L8.5 2.5l-.94 2.06-2.06.94zm10 10l.94 2.06.94-2.06 2.06-.94-2.06-.94-.94-2.06-.94 2.06-2.06.94z\"/><path d=\"M17.41 7.96l-1.37-1.37c-.4-.4-.92-.59-1.43-.59-.52 0-1.04.2-1.43.59L10.3 9.45l-7.72 7.72c-.78.78-.78 2.05 0 2.83L4 21.41c.39.39.9.59 1.41.59.51 0 1.02-.2 1.41-.59l7.78-7.78 2.81-2.81c.8-.78.8-2.07 0-2.86zM5.41 20L4 18.59l7.72-7.72 1.47 1.35L5.41 20z\"/>\n",
              "  </svg>\n",
              "      </button>\n",
              "      \n",
              "  <style>\n",
              "    .colab-df-container {\n",
              "      display:flex;\n",
              "      flex-wrap:wrap;\n",
              "      gap: 12px;\n",
              "    }\n",
              "\n",
              "    .colab-df-convert {\n",
              "      background-color: #E8F0FE;\n",
              "      border: none;\n",
              "      border-radius: 50%;\n",
              "      cursor: pointer;\n",
              "      display: none;\n",
              "      fill: #1967D2;\n",
              "      height: 32px;\n",
              "      padding: 0 0 0 0;\n",
              "      width: 32px;\n",
              "    }\n",
              "\n",
              "    .colab-df-convert:hover {\n",
              "      background-color: #E2EBFA;\n",
              "      box-shadow: 0px 1px 2px rgba(60, 64, 67, 0.3), 0px 1px 3px 1px rgba(60, 64, 67, 0.15);\n",
              "      fill: #174EA6;\n",
              "    }\n",
              "\n",
              "    [theme=dark] .colab-df-convert {\n",
              "      background-color: #3B4455;\n",
              "      fill: #D2E3FC;\n",
              "    }\n",
              "\n",
              "    [theme=dark] .colab-df-convert:hover {\n",
              "      background-color: #434B5C;\n",
              "      box-shadow: 0px 1px 3px 1px rgba(0, 0, 0, 0.15);\n",
              "      filter: drop-shadow(0px 1px 2px rgba(0, 0, 0, 0.3));\n",
              "      fill: #FFFFFF;\n",
              "    }\n",
              "  </style>\n",
              "\n",
              "      <script>\n",
              "        const buttonEl =\n",
              "          document.querySelector('#df-d7971461-956c-45c3-977c-5c577bc4261c button.colab-df-convert');\n",
              "        buttonEl.style.display =\n",
              "          google.colab.kernel.accessAllowed ? 'block' : 'none';\n",
              "\n",
              "        async function convertToInteractive(key) {\n",
              "          const element = document.querySelector('#df-d7971461-956c-45c3-977c-5c577bc4261c');\n",
              "          const dataTable =\n",
              "            await google.colab.kernel.invokeFunction('convertToInteractive',\n",
              "                                                     [key], {});\n",
              "          if (!dataTable) return;\n",
              "\n",
              "          const docLinkHtml = 'Like what you see? Visit the ' +\n",
              "            '<a target=\"_blank\" href=https://colab.research.google.com/notebooks/data_table.ipynb>data table notebook</a>'\n",
              "            + ' to learn more about interactive tables.';\n",
              "          element.innerHTML = '';\n",
              "          dataTable['output_type'] = 'display_data';\n",
              "          await google.colab.output.renderOutput(dataTable, element);\n",
              "          const docLink = document.createElement('div');\n",
              "          docLink.innerHTML = docLinkHtml;\n",
              "          element.appendChild(docLink);\n",
              "        }\n",
              "      </script>\n",
              "    </div>\n",
              "  </div>\n",
              "  "
            ]
          },
          "metadata": {},
          "execution_count": 227
        }
      ]
    },
    {
      "cell_type": "code",
      "metadata": {
        "id": "14kGO5nkMGlV"
      },
      "source": [
        "X = df[['Number of Units']]\n",
        "y = df['Manufacturing Cost']"
      ],
      "execution_count": 228,
      "outputs": []
    },
    {
      "cell_type": "code",
      "source": [
        "len(X)"
      ],
      "metadata": {
        "id": "ksh_OrkjY3GW",
        "outputId": "73606dd3-5d6d-4518-e237-4713e61fc2c0",
        "colab": {
          "base_uri": "https://localhost:8080/",
          "height": 0
        }
      },
      "execution_count": 229,
      "outputs": [
        {
          "output_type": "execute_result",
          "data": {
            "text/plain": [
              "1000"
            ]
          },
          "metadata": {},
          "execution_count": 229
        }
      ]
    },
    {
      "cell_type": "code",
      "source": [
        "y.describe"
      ],
      "metadata": {
        "colab": {
          "base_uri": "https://localhost:8080/",
          "height": 0
        },
        "id": "bwR6SSqQDfC2",
        "outputId": "540618d7-c61f-40c6-b652-d63340a4cef5"
      },
      "execution_count": 230,
      "outputs": [
        {
          "output_type": "execute_result",
          "data": {
            "text/plain": [
              "<bound method NDFrame.describe of 0      95.066056\n",
              "1      96.531750\n",
              "2      73.661311\n",
              "3      95.566843\n",
              "4      98.777013\n",
              "         ...    \n",
              "995    23.855067\n",
              "996    27.536542\n",
              "997    25.973787\n",
              "998    25.138311\n",
              "999    21.547777\n",
              "Name: Manufacturing Cost, Length: 1000, dtype: float64>"
            ]
          },
          "metadata": {},
          "execution_count": 230
        }
      ]
    },
    {
      "cell_type": "code",
      "metadata": {
        "colab": {
          "base_uri": "https://localhost:8080/",
          "height": 282
        },
        "id": "idoEjfEhMoxk",
        "outputId": "72da8abf-2fdd-4d37-8ba5-af336e9899cc"
      },
      "source": [
        "plt.plot(X,y,'b.')"
      ],
      "execution_count": 231,
      "outputs": [
        {
          "output_type": "execute_result",
          "data": {
            "text/plain": [
              "[<matplotlib.lines.Line2D at 0x7f83fa872cd0>]"
            ]
          },
          "metadata": {},
          "execution_count": 231
        },
        {
          "output_type": "display_data",
          "data": {
            "text/plain": [
              "<Figure size 432x288 with 1 Axes>"
            ],
            "image/png": "[encoded data removed]"
          },
          "metadata": {
            "needs_background": "light"
          }
        }
      ]
    },
    {
      "cell_type": "code",
      "source": [
        "#Particionamos en los sets de entrenamiento y validacion\n",
        "from sklearn.model_selection import train_test_split\n",
        "X_train, X_test, y_train, y_test = train_test_split(X, y, test_size = 0.1, random_state = 101)\n",
        "\n",
        "print(f'Numero total de registros en la bdd: {len(X)}')\n",
        "print(\"*****\"*10)\n",
        "print(f'Numero total de registros en el training set: {len(X_train)}')\n",
        "print(f'Tamaño de X_train: {X_train.shape}')\n",
        "print(\"*****\"*10)\n",
        "print(f'Mumero total de registros en el test dataset: {len(X_test)}')\n",
        "print(f'Tamaño del X_test: {X_test.shape}')"
      ],
      "metadata": {
        "id": "Vay_tL3cFy7x",
        "outputId": "11159f05-02b4-4ac6-e6da-b31156c58c5c",
        "colab": {
          "base_uri": "https://localhost:8080/",
          "height": 0
        }
      },
      "execution_count": 232,
      "outputs": [
        {
          "output_type": "stream",
          "name": "stdout",
          "text": [
            "Numero total de registros en la bdd: 1000\n",
            "**************************************************\n",
            "Numero total de registros en el training set: 900\n",
            "Tamaño de X_train: (900, 1)\n",
            "**************************************************\n",
            "Mumero total de registros en el test dataset: 100\n",
            "Tamaño del X_test: (100, 1)\n"
          ]
        }
      ]
    },
    {
      "cell_type": "code",
      "source": [
        "#tu codigo aquí\n",
        "#Importamos las librerias necesarias\n",
        "from sklearn import metrics\n",
        "from sklearn.metrics import r2_score\n",
        "from sklearn.linear_model import Lasso, Ridge\n",
        "#Definimos una funcion que se puede usar para todos los modelos, excepto el polynomial\n",
        "def useModel(modelo):\n",
        "  modelo.fit(X_train, y_train)\n",
        "  print('Slope:', modelo.coef_)\n",
        "  print('Intercept:', modelo.intercept_)\n",
        "\n",
        "  #Sacamos la prediccion con el modelo entrenado y los datos de validacion\n",
        "  #para calcular las métricas de desempeño\n",
        "  y_pred = modelo.predict(X_test)\n",
        "  #Imprimir los valores de las métricas\n",
        "  print('\\nError medio Absoluto (MAE):', metrics.mean_absolute_error(y_test, y_pred))\n",
        "  print('Root Mean Squared Error:', np.sqrt(metrics.mean_squared_error(y_test, y_pred)))\n",
        "  print('r2_score',r2_score(y_test, y_pred))\n",
        "  #Graficar la ecuacion del modelo y los datos de validación\n",
        "  plt.scatter(X_test, y_test)\n",
        "  plt.plot(X_test, y_pred, \"r-\", linewidth=2, label=\"Predictions\")\n",
        "  plt.xlabel(\"$X$\", fontsize=18)\n",
        "  plt.ylabel(\"$y$\", rotation=0, fontsize=18)\n",
        "  plt.legend(loc=\"upper left\", fontsize=14);"
      ],
      "metadata": {
        "id": "ZCcd0wFWfuk-"
      },
      "execution_count": 233,
      "outputs": []
    },
    {
      "cell_type": "code",
      "source": [
        "#Lineal\n",
        "#Generamos modelo y mandadmos llamar la función para que use dicho modelo\n",
        "modelo = LinearRegression(fit_intercept=True)\n",
        "useModel(modelo)"
      ],
      "metadata": {
        "id": "IK9eeO9RfyWj",
        "outputId": "ef80fbb3-2a0c-4cb2-e797-b5648d7e595c",
        "colab": {
          "base_uri": "https://localhost:8080/",
          "height": 391
        }
      },
      "execution_count": 234,
      "outputs": [
        {
          "output_type": "stream",
          "name": "stdout",
          "text": [
            "Slope: [-5.98882699]\n",
            "Intercept: 66.83650741226988\n",
            "\n",
            "Error medio Absoluto (MAE): 5.013587781954963\n",
            "Root Mean Squared Error: 7.108963321847682\n",
            "r2_score 0.6116251549562579\n"
          ]
        },
        {
          "output_type": "display_data",
          "data": {
            "text/plain": [
              "<Figure size 432x288 with 1 Axes>"
            ],
            "image/png": "[encoded data removed]"
          },
          "metadata": {
            "needs_background": "light"
          }
        }
      ]
    },
    {
      "cell_type": "markdown",
      "source": [
        "Ecuacion Lineal\n",
        "\n",
        "$\\hat{y} = -5.99X + 66.84$"
      ],
      "metadata": {
        "id": "1z8h7GeDhjsm"
      }
    },
    {
      "cell_type": "code",
      "source": [
        "#polinomial\n",
        "#Para el caso polinomial no podemos usar la funcion pues requiere de pasos\n",
        "#adicionales a los demás modelos\n",
        "from sklearn.preprocessing import PolynomialFeatures\n",
        "pr = PolynomialFeatures(degree=3)\n",
        "X_train_pr = pr.fit_transform(X_train)\n",
        "X_test_pr = pr.fit_transform(X_test)"
      ],
      "metadata": {
        "id": "LWvfEDGKuoLJ"
      },
      "execution_count": 235,
      "outputs": []
    },
    {
      "cell_type": "code",
      "source": [
        "poly_reg = LinearRegression()\n",
        "poly_reg.fit(X_train_pr, y_train)\n",
        "poly_reg.coef_, poly_reg.intercept_"
      ],
      "metadata": {
        "id": "wA2n8qm8HkVW",
        "outputId": "79c2b66d-1d1c-409d-d061-2c17b73c6cb3",
        "colab": {
          "base_uri": "https://localhost:8080/",
          "height": 0
        }
      },
      "execution_count": 236,
      "outputs": [
        {
          "output_type": "execute_result",
          "data": {
            "text/plain": [
              "(array([  0.        , -32.54637447,   4.74715887,  -0.24753202]),\n",
              " 110.39947546205548)"
            ]
          },
          "metadata": {},
          "execution_count": 236
        }
      ]
    },
    {
      "cell_type": "markdown",
      "source": [
        "Ecuacion Polinomial\n",
        "\n",
        "$\\hat{y} = -32.55X + 4.75X2 - 0.25X3 + 110.4$"
      ],
      "metadata": {
        "id": "HvMx-v2oNQdd"
      }
    },
    {
      "cell_type": "code",
      "source": [
        "y_pred = poly_reg.predict(X_test_pr)\n",
        "print('Error medio Absoluto (MAE):', metrics.mean_absolute_error(y_test, y_pred))\n",
        "print('Root Mean Squared Error:', np.sqrt(metrics.mean_squared_error(y_test, y_pred)))\n",
        "print('r2_score',r2_score(y_test, y_pred))"
      ],
      "metadata": {
        "id": "KCo4xAMINuCo",
        "outputId": "be905123-55dc-4d5c-ba75-ea5652ebb065",
        "colab": {
          "base_uri": "https://localhost:8080/",
          "height": 0
        }
      },
      "execution_count": 237,
      "outputs": [
        {
          "output_type": "stream",
          "name": "stdout",
          "text": [
            "Error medio Absoluto (MAE): 4.38632098397738\n",
            "Root Mean Squared Error: 5.503891280141199\n",
            "r2_score 0.7672025391579651\n"
          ]
        }
      ]
    },
    {
      "cell_type": "code",
      "source": [
        "plt.scatter(X_test, y_test)\n",
        "plt.scatter(X_test, np.ravel(y_pred), label=\"Predictions\")"
      ],
      "metadata": {
        "id": "eIpSvViuOMKM",
        "outputId": "28b09967-594a-4574-8297-0cb93c9c69cb",
        "colab": {
          "base_uri": "https://localhost:8080/",
          "height": 282
        }
      },
      "execution_count": 238,
      "outputs": [
        {
          "output_type": "execute_result",
          "data": {
            "text/plain": [
              "<matplotlib.collections.PathCollection at 0x7f83fa2eebd0>"
            ]
          },
          "metadata": {},
          "execution_count": 238
        },
        {
          "output_type": "display_data",
          "data": {
            "text/plain": [
              "<Figure size 432x288 with 1 Axes>"
            ],
            "image/png": "[encoded data removed]"
          },
          "metadata": {
            "needs_background": "light"
          }
        }
      ]
    },
    {
      "cell_type": "code",
      "source": [
        "#Ridge\n",
        "modelo = Ridge(alpha=100, fit_intercept=True)\n",
        "useModel(modelo)"
      ],
      "metadata": {
        "id": "9wzlUO6Tglmf",
        "outputId": "0e0c3e42-f776-48d8-b299-842f89ccc514",
        "colab": {
          "base_uri": "https://localhost:8080/",
          "height": 391
        }
      },
      "execution_count": 239,
      "outputs": [
        {
          "output_type": "stream",
          "name": "stdout",
          "text": [
            "Slope: [-5.63411531]\n",
            "Intercept: 65.24962049576945\n",
            "\n",
            "Error medio Absoluto (MAE): 5.063000806731028\n",
            "Root Mean Squared Error: 7.165672754549874\n",
            "r2_score 0.605404173687225\n"
          ]
        },
        {
          "output_type": "display_data",
          "data": {
            "text/plain": [
              "<Figure size 432x288 with 1 Axes>"
            ],
            "image/png": "[encoded data removed]"
          },
          "metadata": {
            "needs_background": "light"
          }
        }
      ]
    },
    {
      "cell_type": "markdown",
      "source": [
        "Ecuacion Ridge\n",
        "\n",
        "$\\hat{y} = -5.63X + 65.25$"
      ],
      "metadata": {
        "id": "gnNim2Bnhxc1"
      }
    },
    {
      "cell_type": "code",
      "source": [
        "#Lasso\n",
        "modelo = Lasso(alpha=1, fit_intercept=True)\n",
        "useModel(modelo)"
      ],
      "metadata": {
        "id": "fWClVFjZhIb7",
        "outputId": "a5c80522-e9f9-4e99-d0f5-90ebcd83edb8",
        "colab": {
          "base_uri": "https://localhost:8080/",
          "height": 391
        }
      },
      "execution_count": 240,
      "outputs": [
        {
          "output_type": "stream",
          "name": "stdout",
          "text": [
            "Slope: [-5.42220651]\n",
            "Intercept: 64.30159616857074\n",
            "\n",
            "Error medio Absoluto (MAE): 5.092520710815617\n",
            "Root Mean Squared Error: 7.2156139275269515\n",
            "r2_score 0.5998847335404536\n"
          ]
        },
        {
          "output_type": "display_data",
          "data": {
            "text/plain": [
              "<Figure size 432x288 with 1 Axes>"
            ],
            "image/png": "[encoded data removed]"
          },
          "metadata": {
            "needs_background": "light"
          }
        }
      ]
    },
    {
      "cell_type": "markdown",
      "source": [
        "Ecuacion Lasso\n",
        "\n",
        "$\\hat{y} = -5.42X + 64.3$"
      ],
      "metadata": {
        "id": "27x6-xiBh4Gk"
      }
    },
    {
      "cell_type": "markdown",
      "source": [
        "![image.png](data:image/png;base64,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)"
      ],
      "metadata": {
        "id": "-1Ealp1mtr5r"
      }
    },
    {
      "cell_type": "markdown",
      "source": [
        "Conclusiones:\n",
        "Aunque todos estan cercanos, el modelo polinomial grado 3 muestra el mejor desempeño al tener los errores más pequeños y el R2 más cercana a 1.\n",
        "\n",
        "El % de entrenamiento es del 90%, tal vez es muy alto lo que provoca baja precision.\n",
        "\n",
        "No se tiene demasiada informacion para saber si los datos estan sobre o sub entrenados, tal ve diferentes valores del parámetro alpha den mejores resultados.\n",
        "\n",
        "Llama la antención que Lineal, Ridge y Lasso casi dan la misma ecuación."
      ],
      "metadata": {
        "id": "ISZWV5OXsik8"
      }
    },
    {
      "cell_type": "markdown",
      "metadata": {
        "id": "CfqcmLmxLoe9"
      },
      "source": [
        "#Ejercicio 2\n",
        "Realiza la regresión polinomial de los siguientes datos:"
      ]
    },
    {
      "cell_type": "code",
      "source": [
        "df = pd.read_csv('https://raw.githubusercontent.com/marypazrf/bdd/main/kc_house_data.csv')\n",
        "df.sample(10)"
      ],
      "metadata": {
        "id": "57bn0j38qGrg",
        "outputId": "2f769e6d-0a22-4094-beac-79c43b785eac",
        "colab": {
          "base_uri": "https://localhost:8080/",
          "height": 456
        }
      },
      "execution_count": 241,
      "outputs": [
        {
          "output_type": "execute_result",
          "data": {
            "text/plain": [
              "               id             date      price  bedrooms  bathrooms  \\\n",
              "5954   7852020250  20140602T000000   725995.0         4       2.50   \n",
              "8610   6392002020  20150324T000000   559000.0         3       1.75   \n",
              "7650    626049058  20150504T000000   275000.0         5       2.50   \n",
              "5683   2202500255  20150305T000000   335000.0         3       2.00   \n",
              "20773  7304301231  20140617T000000   345000.0         3       2.50   \n",
              "6959    723000114  20140505T000000  1395000.0         5       3.50   \n",
              "10784  4104900340  20150204T000000   710000.0         4       2.50   \n",
              "21529  2487200490  20140623T000000   670000.0         3       2.50   \n",
              "12319  2386000070  20141029T000000   795127.0         4       3.25   \n",
              "19948   293070090  20140711T000000   859990.0         4       2.75   \n",
              "\n",
              "       sqft_living  sqft_lot  floors  waterfront  view  ...  grade  \\\n",
              "5954          3190      7869     2.0           0     2  ...      9   \n",
              "8610          1700      6500     1.0           0     0  ...      8   \n",
              "7650          2570     17234     1.0           0     0  ...      7   \n",
              "5683          1210      9926     1.0           0     0  ...      7   \n",
              "20773         1680      2229     2.0           0     0  ...      7   \n",
              "6959          4010      8510     2.0           0     1  ...      9   \n",
              "10784         3220     18618     2.0           0     1  ...     10   \n",
              "21529         3310      5300     2.0           0     2  ...      8   \n",
              "12319         4360     91158     1.0           0     0  ...     10   \n",
              "19948         3520      5500     2.0           0     0  ...      9   \n",
              "\n",
              "       sqft_above  sqft_basement  yr_built  yr_renovated  zipcode      lat  \\\n",
              "5954         3190              0      2001             0    98065  47.5317   \n",
              "8610         1700              0      1967             0    98115  47.6837   \n",
              "7650         1300           1270      1959             0    98133  47.7753   \n",
              "5683         1210              0      1954          2015    98006  47.5731   \n",
              "20773        1680              0      2007             0    98155  47.7484   \n",
              "6959         2850           1160      1971             0    98105  47.6578   \n",
              "10784        3220              0      1991             0    98056  47.5326   \n",
              "21529        2440            870      2008             0    98136  47.5178   \n",
              "12319        3360           1000      1993             0    98053  47.6398   \n",
              "19948        3520              0      2014             0    98074  47.6181   \n",
              "\n",
              "          long  sqft_living15  sqft_lot15  \n",
              "5954  -121.866           2630        6739  \n",
              "8610  -122.284           1880        6000  \n",
              "7650  -122.355           1760        7969  \n",
              "5683  -122.135           1690        9737  \n",
              "20773 -122.322           1230        9300  \n",
              "6959  -122.286           2610        6128  \n",
              "10784 -122.181           2650       11896  \n",
              "21529 -122.389           2140        7500  \n",
              "12319 -121.985           3540       90940  \n",
              "19948 -122.056           3340        5500  \n",
              "\n",
              "[10 rows x 21 columns]"
            ],
            "text/html": [
              "\n",
              "  <div id=\"df-6c5ecff8-79bc-42b7-897a-895ff44f00b0\">\n",
              "    <div class=\"colab-df-container\">\n",
              "      <div>\n",
              "<style scoped>\n",
              "    .dataframe tbody tr th:only-of-type {\n",
              "        vertical-align: middle;\n",
              "    }\n",
              "\n",
              "    .dataframe tbody tr th {\n",
              "        vertical-align: top;\n",
              "    }\n",
              "\n",
              "    .dataframe thead th {\n",
              "        text-align: right;\n",
              "    }\n",
              "</style>\n",
              "<table border=\"1\" class=\"dataframe\">\n",
              "  <thead>\n",
              "    <tr style=\"text-align: right;\">\n",
              "      <th></th>\n",
              "      <th>id</th>\n",
              "      <th>date</th>\n",
              "      <th>price</th>\n",
              "      <th>bedrooms</th>\n",
              "      <th>bathrooms</th>\n",
              "      <th>sqft_living</th>\n",
              "      <th>sqft_lot</th>\n",
              "      <th>floors</th>\n",
              "      <th>waterfront</th>\n",
              "      <th>view</th>\n",
              "      <th>...</th>\n",
              "      <th>grade</th>\n",
              "      <th>sqft_above</th>\n",
              "      <th>sqft_basement</th>\n",
              "      <th>yr_built</th>\n",
              "      <th>yr_renovated</th>\n",
              "      <th>zipcode</th>\n",
              "      <th>lat</th>\n",
              "      <th>long</th>\n",
              "      <th>sqft_living15</th>\n",
              "      <th>sqft_lot15</th>\n",
              "    </tr>\n",
              "  </thead>\n",
              "  <tbody>\n",
              "    <tr>\n",
              "      <th>5954</th>\n",
              "      <td>7852020250</td>\n",
              "      <td>20140602T000000</td>\n",
              "      <td>725995.0</td>\n",
              "      <td>4</td>\n",
              "      <td>2.50</td>\n",
              "      <td>3190</td>\n",
              "      <td>7869</td>\n",
              "      <td>2.0</td>\n",
              "      <td>0</td>\n",
              "      <td>2</td>\n",
              "      <td>...</td>\n",
              "      <td>9</td>\n",
              "      <td>3190</td>\n",
              "      <td>0</td>\n",
              "      <td>2001</td>\n",
              "      <td>0</td>\n",
              "      <td>98065</td>\n",
              "      <td>47.5317</td>\n",
              "      <td>-121.866</td>\n",
              "      <td>2630</td>\n",
              "      <td>6739</td>\n",
              "    </tr>\n",
              "    <tr>\n",
              "      <th>8610</th>\n",
              "      <td>6392002020</td>\n",
              "      <td>20150324T000000</td>\n",
              "      <td>559000.0</td>\n",
              "      <td>3</td>\n",
              "      <td>1.75</td>\n",
              "      <td>1700</td>\n",
              "      <td>6500</td>\n",
              "      <td>1.0</td>\n",
              "      <td>0</td>\n",
              "      <td>0</td>\n",
              "      <td>...</td>\n",
              "      <td>8</td>\n",
              "      <td>1700</td>\n",
              "      <td>0</td>\n",
              "      <td>1967</td>\n",
              "      <td>0</td>\n",
              "      <td>98115</td>\n",
              "      <td>47.6837</td>\n",
              "      <td>-122.284</td>\n",
              "      <td>1880</td>\n",
              "      <td>6000</td>\n",
              "    </tr>\n",
              "    <tr>\n",
              "      <th>7650</th>\n",
              "      <td>626049058</td>\n",
              "      <td>20150504T000000</td>\n",
              "      <td>275000.0</td>\n",
              "      <td>5</td>\n",
              "      <td>2.50</td>\n",
              "      <td>2570</td>\n",
              "      <td>17234</td>\n",
              "      <td>1.0</td>\n",
              "      <td>0</td>\n",
              "      <td>0</td>\n",
              "      <td>...</td>\n",
              "      <td>7</td>\n",
              "      <td>1300</td>\n",
              "      <td>1270</td>\n",
              "      <td>1959</td>\n",
              "      <td>0</td>\n",
              "      <td>98133</td>\n",
              "      <td>47.7753</td>\n",
              "      <td>-122.355</td>\n",
              "      <td>1760</td>\n",
              "      <td>7969</td>\n",
              "    </tr>\n",
              "    <tr>\n",
              "      <th>5683</th>\n",
              "      <td>2202500255</td>\n",
              "      <td>20150305T000000</td>\n",
              "      <td>335000.0</td>\n",
              "      <td>3</td>\n",
              "      <td>2.00</td>\n",
              "      <td>1210</td>\n",
              "      <td>9926</td>\n",
              "      <td>1.0</td>\n",
              "      <td>0</td>\n",
              "      <td>0</td>\n",
              "      <td>...</td>\n",
              "      <td>7</td>\n",
              "      <td>1210</td>\n",
              "      <td>0</td>\n",
              "      <td>1954</td>\n",
              "      <td>2015</td>\n",
              "      <td>98006</td>\n",
              "      <td>47.5731</td>\n",
              "      <td>-122.135</td>\n",
              "      <td>1690</td>\n",
              "      <td>9737</td>\n",
              "    </tr>\n",
              "    <tr>\n",
              "      <th>20773</th>\n",
              "      <td>7304301231</td>\n",
              "      <td>20140617T000000</td>\n",
              "      <td>345000.0</td>\n",
              "      <td>3</td>\n",
              "      <td>2.50</td>\n",
              "      <td>1680</td>\n",
              "      <td>2229</td>\n",
              "      <td>2.0</td>\n",
              "      <td>0</td>\n",
              "      <td>0</td>\n",
              "      <td>...</td>\n",
              "      <td>7</td>\n",
              "      <td>1680</td>\n",
              "      <td>0</td>\n",
              "      <td>2007</td>\n",
              "      <td>0</td>\n",
              "      <td>98155</td>\n",
              "      <td>47.7484</td>\n",
              "      <td>-122.322</td>\n",
              "      <td>1230</td>\n",
              "      <td>9300</td>\n",
              "    </tr>\n",
              "    <tr>\n",
              "      <th>6959</th>\n",
              "      <td>723000114</td>\n",
              "      <td>20140505T000000</td>\n",
              "      <td>1395000.0</td>\n",
              "      <td>5</td>\n",
              "      <td>3.50</td>\n",
              "      <td>4010</td>\n",
              "      <td>8510</td>\n",
              "      <td>2.0</td>\n",
              "      <td>0</td>\n",
              "      <td>1</td>\n",
              "      <td>...</td>\n",
              "      <td>9</td>\n",
              "      <td>2850</td>\n",
              "      <td>1160</td>\n",
              "      <td>1971</td>\n",
              "      <td>0</td>\n",
              "      <td>98105</td>\n",
              "      <td>47.6578</td>\n",
              "      <td>-122.286</td>\n",
              "      <td>2610</td>\n",
              "      <td>6128</td>\n",
              "    </tr>\n",
              "    <tr>\n",
              "      <th>10784</th>\n",
              "      <td>4104900340</td>\n",
              "      <td>20150204T000000</td>\n",
              "      <td>710000.0</td>\n",
              "      <td>4</td>\n",
              "      <td>2.50</td>\n",
              "      <td>3220</td>\n",
              "      <td>18618</td>\n",
              "      <td>2.0</td>\n",
              "      <td>0</td>\n",
              "      <td>1</td>\n",
              "      <td>...</td>\n",
              "      <td>10</td>\n",
              "      <td>3220</td>\n",
              "      <td>0</td>\n",
              "      <td>1991</td>\n",
              "      <td>0</td>\n",
              "      <td>98056</td>\n",
              "      <td>47.5326</td>\n",
              "      <td>-122.181</td>\n",
              "      <td>2650</td>\n",
              "      <td>11896</td>\n",
              "    </tr>\n",
              "    <tr>\n",
              "      <th>21529</th>\n",
              "      <td>2487200490</td>\n",
              "      <td>20140623T000000</td>\n",
              "      <td>670000.0</td>\n",
              "      <td>3</td>\n",
              "      <td>2.50</td>\n",
              "      <td>3310</td>\n",
              "      <td>5300</td>\n",
              "      <td>2.0</td>\n",
              "      <td>0</td>\n",
              "      <td>2</td>\n",
              "      <td>...</td>\n",
              "      <td>8</td>\n",
              "      <td>2440</td>\n",
              "      <td>870</td>\n",
              "      <td>2008</td>\n",
              "      <td>0</td>\n",
              "      <td>98136</td>\n",
              "      <td>47.5178</td>\n",
              "      <td>-122.389</td>\n",
              "      <td>2140</td>\n",
              "      <td>7500</td>\n",
              "    </tr>\n",
              "    <tr>\n",
              "      <th>12319</th>\n",
              "      <td>2386000070</td>\n",
              "      <td>20141029T000000</td>\n",
              "      <td>795127.0</td>\n",
              "      <td>4</td>\n",
              "      <td>3.25</td>\n",
              "      <td>4360</td>\n",
              "      <td>91158</td>\n",
              "      <td>1.0</td>\n",
              "      <td>0</td>\n",
              "      <td>0</td>\n",
              "      <td>...</td>\n",
              "      <td>10</td>\n",
              "      <td>3360</td>\n",
              "      <td>1000</td>\n",
              "      <td>1993</td>\n",
              "      <td>0</td>\n",
              "      <td>98053</td>\n",
              "      <td>47.6398</td>\n",
              "      <td>-121.985</td>\n",
              "      <td>3540</td>\n",
              "      <td>90940</td>\n",
              "    </tr>\n",
              "    <tr>\n",
              "      <th>19948</th>\n",
              "      <td>293070090</td>\n",
              "      <td>20140711T000000</td>\n",
              "      <td>859990.0</td>\n",
              "      <td>4</td>\n",
              "      <td>2.75</td>\n",
              "      <td>3520</td>\n",
              "      <td>5500</td>\n",
              "      <td>2.0</td>\n",
              "      <td>0</td>\n",
              "      <td>0</td>\n",
              "      <td>...</td>\n",
              "      <td>9</td>\n",
              "      <td>3520</td>\n",
              "      <td>0</td>\n",
              "      <td>2014</td>\n",
              "      <td>0</td>\n",
              "      <td>98074</td>\n",
              "      <td>47.6181</td>\n",
              "      <td>-122.056</td>\n",
              "      <td>3340</td>\n",
              "      <td>5500</td>\n",
              "    </tr>\n",
              "  </tbody>\n",
              "</table>\n",
              "<p>10 rows × 21 columns</p>\n",
              "</div>\n",
              "      <button class=\"colab-df-convert\" onclick=\"convertToInteractive('df-6c5ecff8-79bc-42b7-897a-895ff44f00b0')\"\n",
              "              title=\"Convert this dataframe to an interactive table.\"\n",
              "              style=\"display:none;\">\n",
              "        \n",
              "  <svg xmlns=\"http://www.w3.org/2000/svg\" height=\"24px\"viewBox=\"0 0 24 24\"\n",
              "       width=\"24px\">\n",
              "    <path d=\"M0 0h24v24H0V0z\" fill=\"none\"/>\n",
              "    <path d=\"M18.56 5.44l.94 2.06.94-2.06 2.06-.94-2.06-.94-.94-2.06-.94 2.06-2.06.94zm-11 1L8.5 8.5l.94-2.06 2.06-.94-2.06-.94L8.5 2.5l-.94 2.06-2.06.94zm10 10l.94 2.06.94-2.06 2.06-.94-2.06-.94-.94-2.06-.94 2.06-2.06.94z\"/><path d=\"M17.41 7.96l-1.37-1.37c-.4-.4-.92-.59-1.43-.59-.52 0-1.04.2-1.43.59L10.3 9.45l-7.72 7.72c-.78.78-.78 2.05 0 2.83L4 21.41c.39.39.9.59 1.41.59.51 0 1.02-.2 1.41-.59l7.78-7.78 2.81-2.81c.8-.78.8-2.07 0-2.86zM5.41 20L4 18.59l7.72-7.72 1.47 1.35L5.41 20z\"/>\n",
              "  </svg>\n",
              "      </button>\n",
              "      \n",
              "  <style>\n",
              "    .colab-df-container {\n",
              "      display:flex;\n",
              "      flex-wrap:wrap;\n",
              "      gap: 12px;\n",
              "    }\n",
              "\n",
              "    .colab-df-convert {\n",
              "      background-color: #E8F0FE;\n",
              "      border: none;\n",
              "      border-radius: 50%;\n",
              "      cursor: pointer;\n",
              "      display: none;\n",
              "      fill: #1967D2;\n",
              "      height: 32px;\n",
              "      padding: 0 0 0 0;\n",
              "      width: 32px;\n",
              "    }\n",
              "\n",
              "    .colab-df-convert:hover {\n",
              "      background-color: #E2EBFA;\n",
              "      box-shadow: 0px 1px 2px rgba(60, 64, 67, 0.3), 0px 1px 3px 1px rgba(60, 64, 67, 0.15);\n",
              "      fill: #174EA6;\n",
              "    }\n",
              "\n",
              "    [theme=dark] .colab-df-convert {\n",
              "      background-color: #3B4455;\n",
              "      fill: #D2E3FC;\n",
              "    }\n",
              "\n",
              "    [theme=dark] .colab-df-convert:hover {\n",
              "      background-color: #434B5C;\n",
              "      box-shadow: 0px 1px 3px 1px rgba(0, 0, 0, 0.15);\n",
              "      filter: drop-shadow(0px 1px 2px rgba(0, 0, 0, 0.3));\n",
              "      fill: #FFFFFF;\n",
              "    }\n",
              "  </style>\n",
              "\n",
              "      <script>\n",
              "        const buttonEl =\n",
              "          document.querySelector('#df-6c5ecff8-79bc-42b7-897a-895ff44f00b0 button.colab-df-convert');\n",
              "        buttonEl.style.display =\n",
              "          google.colab.kernel.accessAllowed ? 'block' : 'none';\n",
              "\n",
              "        async function convertToInteractive(key) {\n",
              "          const element = document.querySelector('#df-6c5ecff8-79bc-42b7-897a-895ff44f00b0');\n",
              "          const dataTable =\n",
              "            await google.colab.kernel.invokeFunction('convertToInteractive',\n",
              "                                                     [key], {});\n",
              "          if (!dataTable) return;\n",
              "\n",
              "          const docLinkHtml = 'Like what you see? Visit the ' +\n",
              "            '<a target=\"_blank\" href=https://colab.research.google.com/notebooks/data_table.ipynb>data table notebook</a>'\n",
              "            + ' to learn more about interactive tables.';\n",
              "          element.innerHTML = '';\n",
              "          dataTable['output_type'] = 'display_data';\n",
              "          await google.colab.output.renderOutput(dataTable, element);\n",
              "          const docLink = document.createElement('div');\n",
              "          docLink.innerHTML = docLinkHtml;\n",
              "          element.appendChild(docLink);\n",
              "        }\n",
              "      </script>\n",
              "    </div>\n",
              "  </div>\n",
              "  "
            ]
          },
          "metadata": {},
          "execution_count": 241
        }
      ]
    },
    {
      "cell_type": "code",
      "source": [
        "df.info()"
      ],
      "metadata": {
        "id": "n0fs14KoqI3M",
        "outputId": "be803ec6-366d-4e4d-8d89-3a76a8a2ec53",
        "colab": {
          "base_uri": "https://localhost:8080/",
          "height": 0
        }
      },
      "execution_count": 242,
      "outputs": [
        {
          "output_type": "stream",
          "name": "stdout",
          "text": [
            "<class 'pandas.core.frame.DataFrame'>\n",
            "RangeIndex: 21613 entries, 0 to 21612\n",
            "Data columns (total 21 columns):\n",
            " #   Column         Non-Null Count  Dtype  \n",
            "---  ------         --------------  -----  \n",
            " 0   id             21613 non-null  int64  \n",
            " 1   date           21613 non-null  object \n",
            " 2   price          21613 non-null  float64\n",
            " 3   bedrooms       21613 non-null  int64  \n",
            " 4   bathrooms      21613 non-null  float64\n",
            " 5   sqft_living    21613 non-null  int64  \n",
            " 6   sqft_lot       21613 non-null  int64  \n",
            " 7   floors         21613 non-null  float64\n",
            " 8   waterfront     21613 non-null  int64  \n",
            " 9   view           21613 non-null  int64  \n",
            " 10  condition      21613 non-null  int64  \n",
            " 11  grade          21613 non-null  int64  \n",
            " 12  sqft_above     21613 non-null  int64  \n",
            " 13  sqft_basement  21613 non-null  int64  \n",
            " 14  yr_built       21613 non-null  int64  \n",
            " 15  yr_renovated   21613 non-null  int64  \n",
            " 16  zipcode        21613 non-null  int64  \n",
            " 17  lat            21613 non-null  float64\n",
            " 18  long           21613 non-null  float64\n",
            " 19  sqft_living15  21613 non-null  int64  \n",
            " 20  sqft_lot15     21613 non-null  int64  \n",
            "dtypes: float64(5), int64(15), object(1)\n",
            "memory usage: 3.5+ MB\n"
          ]
        }
      ]
    },
    {
      "cell_type": "code",
      "source": [
        "df.describe()"
      ],
      "metadata": {
        "id": "1PNzDJZeqKhe",
        "outputId": "d0ecc557-9b82-4fa1-8e4a-202d75af69b0",
        "colab": {
          "base_uri": "https://localhost:8080/",
          "height": 364
        }
      },
      "execution_count": 243,
      "outputs": [
        {
          "output_type": "execute_result",
          "data": {
            "text/plain": [
              "                 id         price      bedrooms     bathrooms   sqft_living  \\\n",
              "count  2.161300e+04  2.161300e+04  21613.000000  21613.000000  21613.000000   \n",
              "mean   4.580302e+09  5.400881e+05      3.370842      2.114757   2079.899736   \n",
              "std    2.876566e+09  3.671272e+05      0.930062      0.770163    918.440897   \n",
              "min    1.000102e+06  7.500000e+04      0.000000      0.000000    290.000000   \n",
              "25%    2.123049e+09  3.219500e+05      3.000000      1.750000   1427.000000   \n",
              "50%    3.904930e+09  4.500000e+05      3.000000      2.250000   1910.000000   \n",
              "75%    7.308900e+09  6.450000e+05      4.000000      2.500000   2550.000000   \n",
              "max    9.900000e+09  7.700000e+06     33.000000      8.000000  13540.000000   \n",
              "\n",
              "           sqft_lot        floors    waterfront          view     condition  \\\n",
              "count  2.161300e+04  21613.000000  21613.000000  21613.000000  21613.000000   \n",
              "mean   1.510697e+04      1.494309      0.007542      0.234303      3.409430   \n",
              "std    4.142051e+04      0.539989      0.086517      0.766318      0.650743   \n",
              "min    5.200000e+02      1.000000      0.000000      0.000000      1.000000   \n",
              "25%    5.040000e+03      1.000000      0.000000      0.000000      3.000000   \n",
              "50%    7.618000e+03      1.500000      0.000000      0.000000      3.000000   \n",
              "75%    1.068800e+04      2.000000      0.000000      0.000000      4.000000   \n",
              "max    1.651359e+06      3.500000      1.000000      4.000000      5.000000   \n",
              "\n",
              "              grade    sqft_above  sqft_basement      yr_built  yr_renovated  \\\n",
              "count  21613.000000  21613.000000   21613.000000  21613.000000  21613.000000   \n",
              "mean       7.656873   1788.390691     291.509045   1971.005136     84.402258   \n",
              "std        1.175459    828.090978     442.575043     29.373411    401.679240   \n",
              "min        1.000000    290.000000       0.000000   1900.000000      0.000000   \n",
              "25%        7.000000   1190.000000       0.000000   1951.000000      0.000000   \n",
              "50%        7.000000   1560.000000       0.000000   1975.000000      0.000000   \n",
              "75%        8.000000   2210.000000     560.000000   1997.000000      0.000000   \n",
              "max       13.000000   9410.000000    4820.000000   2015.000000   2015.000000   \n",
              "\n",
              "            zipcode           lat          long  sqft_living15     sqft_lot15  \n",
              "count  21613.000000  21613.000000  21613.000000   21613.000000   21613.000000  \n",
              "mean   98077.939805     47.560053   -122.213896    1986.552492   12768.455652  \n",
              "std       53.505026      0.138564      0.140828     685.391304   27304.179631  \n",
              "min    98001.000000     47.155900   -122.519000     399.000000     651.000000  \n",
              "25%    98033.000000     47.471000   -122.328000    1490.000000    5100.000000  \n",
              "50%    98065.000000     47.571800   -122.230000    1840.000000    7620.000000  \n",
              "75%    98118.000000     47.678000   -122.125000    2360.000000   10083.000000  \n",
              "max    98199.000000     47.777600   -121.315000    6210.000000  871200.000000  "
            ],
            "text/html": [
              "\n",
              "  <div id=\"df-7fe708a6-3e05-448b-9d3c-6fb1471a43eb\">\n",
              "    <div class=\"colab-df-container\">\n",
              "      <div>\n",
              "<style scoped>\n",
              "    .dataframe tbody tr th:only-of-type {\n",
              "        vertical-align: middle;\n",
              "    }\n",
              "\n",
              "    .dataframe tbody tr th {\n",
              "        vertical-align: top;\n",
              "    }\n",
              "\n",
              "    .dataframe thead th {\n",
              "        text-align: right;\n",
              "    }\n",
              "</style>\n",
              "<table border=\"1\" class=\"dataframe\">\n",
              "  <thead>\n",
              "    <tr style=\"text-align: right;\">\n",
              "      <th></th>\n",
              "      <th>id</th>\n",
              "      <th>price</th>\n",
              "      <th>bedrooms</th>\n",
              "      <th>bathrooms</th>\n",
              "      <th>sqft_living</th>\n",
              "      <th>sqft_lot</th>\n",
              "      <th>floors</th>\n",
              "      <th>waterfront</th>\n",
              "      <th>view</th>\n",
              "      <th>condition</th>\n",
              "      <th>grade</th>\n",
              "      <th>sqft_above</th>\n",
              "      <th>sqft_basement</th>\n",
              "      <th>yr_built</th>\n",
              "      <th>yr_renovated</th>\n",
              "      <th>zipcode</th>\n",
              "      <th>lat</th>\n",
              "      <th>long</th>\n",
              "      <th>sqft_living15</th>\n",
              "      <th>sqft_lot15</th>\n",
              "    </tr>\n",
              "  </thead>\n",
              "  <tbody>\n",
              "    <tr>\n",
              "      <th>count</th>\n",
              "      <td>2.161300e+04</td>\n",
              "      <td>2.161300e+04</td>\n",
              "      <td>21613.000000</td>\n",
              "      <td>21613.000000</td>\n",
              "      <td>21613.000000</td>\n",
              "      <td>2.161300e+04</td>\n",
              "      <td>21613.000000</td>\n",
              "      <td>21613.000000</td>\n",
              "      <td>21613.000000</td>\n",
              "      <td>21613.000000</td>\n",
              "      <td>21613.000000</td>\n",
              "      <td>21613.000000</td>\n",
              "      <td>21613.000000</td>\n",
              "      <td>21613.000000</td>\n",
              "      <td>21613.000000</td>\n",
              "      <td>21613.000000</td>\n",
              "      <td>21613.000000</td>\n",
              "      <td>21613.000000</td>\n",
              "      <td>21613.000000</td>\n",
              "      <td>21613.000000</td>\n",
              "    </tr>\n",
              "    <tr>\n",
              "      <th>mean</th>\n",
              "      <td>4.580302e+09</td>\n",
              "      <td>5.400881e+05</td>\n",
              "      <td>3.370842</td>\n",
              "      <td>2.114757</td>\n",
              "      <td>2079.899736</td>\n",
              "      <td>1.510697e+04</td>\n",
              "      <td>1.494309</td>\n",
              "      <td>0.007542</td>\n",
              "      <td>0.234303</td>\n",
              "      <td>3.409430</td>\n",
              "      <td>7.656873</td>\n",
              "      <td>1788.390691</td>\n",
              "      <td>291.509045</td>\n",
              "      <td>1971.005136</td>\n",
              "      <td>84.402258</td>\n",
              "      <td>98077.939805</td>\n",
              "      <td>47.560053</td>\n",
              "      <td>-122.213896</td>\n",
              "      <td>1986.552492</td>\n",
              "      <td>12768.455652</td>\n",
              "    </tr>\n",
              "    <tr>\n",
              "      <th>std</th>\n",
              "      <td>2.876566e+09</td>\n",
              "      <td>3.671272e+05</td>\n",
              "      <td>0.930062</td>\n",
              "      <td>0.770163</td>\n",
              "      <td>918.440897</td>\n",
              "      <td>4.142051e+04</td>\n",
              "      <td>0.539989</td>\n",
              "      <td>0.086517</td>\n",
              "      <td>0.766318</td>\n",
              "      <td>0.650743</td>\n",
              "      <td>1.175459</td>\n",
              "      <td>828.090978</td>\n",
              "      <td>442.575043</td>\n",
              "      <td>29.373411</td>\n",
              "      <td>401.679240</td>\n",
              "      <td>53.505026</td>\n",
              "      <td>0.138564</td>\n",
              "      <td>0.140828</td>\n",
              "      <td>685.391304</td>\n",
              "      <td>27304.179631</td>\n",
              "    </tr>\n",
              "    <tr>\n",
              "      <th>min</th>\n",
              "      <td>1.000102e+06</td>\n",
              "      <td>7.500000e+04</td>\n",
              "      <td>0.000000</td>\n",
              "      <td>0.000000</td>\n",
              "      <td>290.000000</td>\n",
              "      <td>5.200000e+02</td>\n",
              "      <td>1.000000</td>\n",
              "      <td>0.000000</td>\n",
              "      <td>0.000000</td>\n",
              "      <td>1.000000</td>\n",
              "      <td>1.000000</td>\n",
              "      <td>290.000000</td>\n",
              "      <td>0.000000</td>\n",
              "      <td>1900.000000</td>\n",
              "      <td>0.000000</td>\n",
              "      <td>98001.000000</td>\n",
              "      <td>47.155900</td>\n",
              "      <td>-122.519000</td>\n",
              "      <td>399.000000</td>\n",
              "      <td>651.000000</td>\n",
              "    </tr>\n",
              "    <tr>\n",
              "      <th>25%</th>\n",
              "      <td>2.123049e+09</td>\n",
              "      <td>3.219500e+05</td>\n",
              "      <td>3.000000</td>\n",
              "      <td>1.750000</td>\n",
              "      <td>1427.000000</td>\n",
              "      <td>5.040000e+03</td>\n",
              "      <td>1.000000</td>\n",
              "      <td>0.000000</td>\n",
              "      <td>0.000000</td>\n",
              "      <td>3.000000</td>\n",
              "      <td>7.000000</td>\n",
              "      <td>1190.000000</td>\n",
              "      <td>0.000000</td>\n",
              "      <td>1951.000000</td>\n",
              "      <td>0.000000</td>\n",
              "      <td>98033.000000</td>\n",
              "      <td>47.471000</td>\n",
              "      <td>-122.328000</td>\n",
              "      <td>1490.000000</td>\n",
              "      <td>5100.000000</td>\n",
              "    </tr>\n",
              "    <tr>\n",
              "      <th>50%</th>\n",
              "      <td>3.904930e+09</td>\n",
              "      <td>4.500000e+05</td>\n",
              "      <td>3.000000</td>\n",
              "      <td>2.250000</td>\n",
              "      <td>1910.000000</td>\n",
              "      <td>7.618000e+03</td>\n",
              "      <td>1.500000</td>\n",
              "      <td>0.000000</td>\n",
              "      <td>0.000000</td>\n",
              "      <td>3.000000</td>\n",
              "      <td>7.000000</td>\n",
              "      <td>1560.000000</td>\n",
              "      <td>0.000000</td>\n",
              "      <td>1975.000000</td>\n",
              "      <td>0.000000</td>\n",
              "      <td>98065.000000</td>\n",
              "      <td>47.571800</td>\n",
              "      <td>-122.230000</td>\n",
              "      <td>1840.000000</td>\n",
              "      <td>7620.000000</td>\n",
              "    </tr>\n",
              "    <tr>\n",
              "      <th>75%</th>\n",
              "      <td>7.308900e+09</td>\n",
              "      <td>6.450000e+05</td>\n",
              "      <td>4.000000</td>\n",
              "      <td>2.500000</td>\n",
              "      <td>2550.000000</td>\n",
              "      <td>1.068800e+04</td>\n",
              "      <td>2.000000</td>\n",
              "      <td>0.000000</td>\n",
              "      <td>0.000000</td>\n",
              "      <td>4.000000</td>\n",
              "      <td>8.000000</td>\n",
              "      <td>2210.000000</td>\n",
              "      <td>560.000000</td>\n",
              "      <td>1997.000000</td>\n",
              "      <td>0.000000</td>\n",
              "      <td>98118.000000</td>\n",
              "      <td>47.678000</td>\n",
              "      <td>-122.125000</td>\n",
              "      <td>2360.000000</td>\n",
              "      <td>10083.000000</td>\n",
              "    </tr>\n",
              "    <tr>\n",
              "      <th>max</th>\n",
              "      <td>9.900000e+09</td>\n",
              "      <td>7.700000e+06</td>\n",
              "      <td>33.000000</td>\n",
              "      <td>8.000000</td>\n",
              "      <td>13540.000000</td>\n",
              "      <td>1.651359e+06</td>\n",
              "      <td>3.500000</td>\n",
              "      <td>1.000000</td>\n",
              "      <td>4.000000</td>\n",
              "      <td>5.000000</td>\n",
              "      <td>13.000000</td>\n",
              "      <td>9410.000000</td>\n",
              "      <td>4820.000000</td>\n",
              "      <td>2015.000000</td>\n",
              "      <td>2015.000000</td>\n",
              "      <td>98199.000000</td>\n",
              "      <td>47.777600</td>\n",
              "      <td>-121.315000</td>\n",
              "      <td>6210.000000</td>\n",
              "      <td>871200.000000</td>\n",
              "    </tr>\n",
              "  </tbody>\n",
              "</table>\n",
              "</div>\n",
              "      <button class=\"colab-df-convert\" onclick=\"convertToInteractive('df-7fe708a6-3e05-448b-9d3c-6fb1471a43eb')\"\n",
              "              title=\"Convert this dataframe to an interactive table.\"\n",
              "              style=\"display:none;\">\n",
              "        \n",
              "  <svg xmlns=\"http://www.w3.org/2000/svg\" height=\"24px\"viewBox=\"0 0 24 24\"\n",
              "       width=\"24px\">\n",
              "    <path d=\"M0 0h24v24H0V0z\" fill=\"none\"/>\n",
              "    <path d=\"M18.56 5.44l.94 2.06.94-2.06 2.06-.94-2.06-.94-.94-2.06-.94 2.06-2.06.94zm-11 1L8.5 8.5l.94-2.06 2.06-.94-2.06-.94L8.5 2.5l-.94 2.06-2.06.94zm10 10l.94 2.06.94-2.06 2.06-.94-2.06-.94-.94-2.06-.94 2.06-2.06.94z\"/><path d=\"M17.41 7.96l-1.37-1.37c-.4-.4-.92-.59-1.43-.59-.52 0-1.04.2-1.43.59L10.3 9.45l-7.72 7.72c-.78.78-.78 2.05 0 2.83L4 21.41c.39.39.9.59 1.41.59.51 0 1.02-.2 1.41-.59l7.78-7.78 2.81-2.81c.8-.78.8-2.07 0-2.86zM5.41 20L4 18.59l7.72-7.72 1.47 1.35L5.41 20z\"/>\n",
              "  </svg>\n",
              "      </button>\n",
              "      \n",
              "  <style>\n",
              "    .colab-df-container {\n",
              "      display:flex;\n",
              "      flex-wrap:wrap;\n",
              "      gap: 12px;\n",
              "    }\n",
              "\n",
              "    .colab-df-convert {\n",
              "      background-color: #E8F0FE;\n",
              "      border: none;\n",
              "      border-radius: 50%;\n",
              "      cursor: pointer;\n",
              "      display: none;\n",
              "      fill: #1967D2;\n",
              "      height: 32px;\n",
              "      padding: 0 0 0 0;\n",
              "      width: 32px;\n",
              "    }\n",
              "\n",
              "    .colab-df-convert:hover {\n",
              "      background-color: #E2EBFA;\n",
              "      box-shadow: 0px 1px 2px rgba(60, 64, 67, 0.3), 0px 1px 3px 1px rgba(60, 64, 67, 0.15);\n",
              "      fill: #174EA6;\n",
              "    }\n",
              "\n",
              "    [theme=dark] .colab-df-convert {\n",
              "      background-color: #3B4455;\n",
              "      fill: #D2E3FC;\n",
              "    }\n",
              "\n",
              "    [theme=dark] .colab-df-convert:hover {\n",
              "      background-color: #434B5C;\n",
              "      box-shadow: 0px 1px 3px 1px rgba(0, 0, 0, 0.15);\n",
              "      filter: drop-shadow(0px 1px 2px rgba(0, 0, 0, 0.3));\n",
              "      fill: #FFFFFF;\n",
              "    }\n",
              "  </style>\n",
              "\n",
              "      <script>\n",
              "        const buttonEl =\n",
              "          document.querySelector('#df-7fe708a6-3e05-448b-9d3c-6fb1471a43eb button.colab-df-convert');\n",
              "        buttonEl.style.display =\n",
              "          google.colab.kernel.accessAllowed ? 'block' : 'none';\n",
              "\n",
              "        async function convertToInteractive(key) {\n",
              "          const element = document.querySelector('#df-7fe708a6-3e05-448b-9d3c-6fb1471a43eb');\n",
              "          const dataTable =\n",
              "            await google.colab.kernel.invokeFunction('convertToInteractive',\n",
              "                                                     [key], {});\n",
              "          if (!dataTable) return;\n",
              "\n",
              "          const docLinkHtml = 'Like what you see? Visit the ' +\n",
              "            '<a target=\"_blank\" href=https://colab.research.google.com/notebooks/data_table.ipynb>data table notebook</a>'\n",
              "            + ' to learn more about interactive tables.';\n",
              "          element.innerHTML = '';\n",
              "          dataTable['output_type'] = 'display_data';\n",
              "          await google.colab.output.renderOutput(dataTable, element);\n",
              "          const docLink = document.createElement('div');\n",
              "          docLink.innerHTML = docLinkHtml;\n",
              "          element.appendChild(docLink);\n",
              "        }\n",
              "      </script>\n",
              "    </div>\n",
              "  </div>\n",
              "  "
            ]
          },
          "metadata": {},
          "execution_count": 243
        }
      ]
    },
    {
      "cell_type": "code",
      "source": [
        "df.drop('id', axis = 1, inplace = True)\n",
        "df.drop('date', axis = 1, inplace = True)\n",
        "df.drop('zipcode', axis = 1, inplace = True)\n",
        "df.drop('lat', axis = 1, inplace = True)\n",
        "df.drop('long', axis = 1, inplace = True)\n"
      ],
      "metadata": {
        "id": "0KUD8T08qMmq"
      },
      "execution_count": 244,
      "outputs": []
    },
    {
      "cell_type": "code",
      "source": [
        "plt.figure(figsize=(12,8)) \n",
        "sns.heatmap(df.corr(), annot=True, cmap='Dark2_r', linewidths = 2)\n",
        "plt.show()"
      ],
      "metadata": {
        "id": "r-jk_nHmqKpp",
        "outputId": "c9186cf0-1005-4ada-e62e-5f701b8e4162",
        "colab": {
          "base_uri": "https://localhost:8080/",
          "height": 551
        }
      },
      "execution_count": 245,
      "outputs": [
        {
          "output_type": "display_data",
          "data": {
            "text/plain": [
              "<Figure size 864x576 with 2 Axes>"
            ],
            "image/png": "[encoded data removed]"
          },
          "metadata": {
            "needs_background": "light"
          }
        }
      ]
    },
    {
      "cell_type": "code",
      "source": [
        "columns = df.columns.drop('price')\n",
        "\n",
        "features = columns\n",
        "label = ['price']\n",
        "\n",
        "X = df[features]\n",
        "y = df[label]"
      ],
      "metadata": {
        "id": "p4zqCnFwq7Oc"
      },
      "execution_count": 246,
      "outputs": []
    },
    {
      "cell_type": "code",
      "source": [
        "from sklearn.model_selection import train_test_split\n",
        "X_train, X_test, y_train, y_test = train_test_split(X, y, test_size = 0.1, random_state = 101)\n",
        "\n",
        "print(f'Numero total de registros en la bdd: {len(X)}')\n",
        "print(\"*****\"*10)\n",
        "print(f'Numero total de registros en el training set: {len(X_train)}')\n",
        "print(f'Tamaño de X_train: {X_train.shape}')\n",
        "print(\"*****\"*10)\n",
        "print(f'Mumero total de registros en el test dataset: {len(X_test)}')\n",
        "print(f'Tamaño del X_test: {X_test.shape}')"
      ],
      "metadata": {
        "id": "p91PEVPLq93-",
        "outputId": "ba6bf527-8690-4a8f-bb09-9e50b8abdf33",
        "colab": {
          "base_uri": "https://localhost:8080/",
          "height": 0
        }
      },
      "execution_count": 247,
      "outputs": [
        {
          "output_type": "stream",
          "name": "stdout",
          "text": [
            "Numero total de registros en la bdd: 21613\n",
            "**************************************************\n",
            "Numero total de registros en el training set: 19451\n",
            "Tamaño de X_train: (19451, 15)\n",
            "**************************************************\n",
            "Mumero total de registros en el test dataset: 2162\n",
            "Tamaño del X_test: (2162, 15)\n"
          ]
        }
      ]
    },
    {
      "cell_type": "code",
      "source": [
        "#Definimos una funcion que se puede usar para todos los modelos, excepto el polynomial\n",
        "def useModel(modelo, xtr, ytr, xt, yt):\n",
        "  modelo.fit(xtr, ytr)\n",
        "  print('Slope:', modelo.coef_)\n",
        "  print('Intercept:', modelo.intercept_)\n",
        "  y_pred = modelo.predict(xt)\n",
        "  print('\\nError medio Absoluto (MAE):', metrics.mean_absolute_error(yt, y_pred))\n",
        "  print('Root Mean Squared Error:', np.sqrt(metrics.mean_squared_error(yt, y_pred)))\n",
        "  print('r2_score',r2_score(yt, y_pred))\n",
        "#  plt.scatter(X_test, y_test)\n",
        "#  plt.plot(X_test, y_pred, \"r-\", linewidth=2, label=\"Predictions\")\n",
        "#  plt.xlabel(\"$X$\", fontsize=18)\n",
        "#  plt.ylabel(\"$y$\", rotation=0, fontsize=18)\n",
        "#  plt.legend(loc=\"upper left\", fontsize=14);"
      ],
      "metadata": {
        "id": "zLvMzljLjEbg"
      },
      "execution_count": 248,
      "outputs": []
    },
    {
      "cell_type": "code",
      "source": [
        "#Lineal\n",
        "modelo = LinearRegression(fit_intercept=True)\n",
        "useModel(modelo, X_train, y_train, X_test, y_test)"
      ],
      "metadata": {
        "id": "0faHrN8-rv9V",
        "colab": {
          "base_uri": "https://localhost:8080/",
          "height": 0
        },
        "outputId": "00b4693d-75f2-4b82-ac74-fa783323a1ee"
      },
      "execution_count": 249,
      "outputs": [
        {
          "output_type": "stream",
          "name": "stdout",
          "text": [
            "Slope: [[-3.82008048e+04  4.14661380e+04  1.07992584e+02  1.71356997e-02\n",
            "   3.16916913e+04  5.52691023e+05  4.12493228e+04  2.12221443e+04\n",
            "   1.19493216e+05  4.77750271e+01  6.02175565e+01 -3.55090216e+03\n",
            "   1.32602215e+01  2.90059284e+01 -5.48132603e-01]]\n",
            "Intercept: [6151359.2627409]\n",
            "\n",
            "Error medio Absoluto (MAE): 137480.1388273178\n",
            "Root Mean Squared Error: 232133.3676240749\n",
            "r2_score 0.6579723205007814\n"
          ]
        }
      ]
    },
    {
      "cell_type": "code",
      "source": [
        "#Polinomial\n",
        "pr = PolynomialFeatures(degree=3)\n",
        "X_train_pr = pr.fit_transform(X_train)\n",
        "X_test_pr = pr.fit_transform(X_test)\n",
        "modelo = LinearRegression()\n",
        "useModel(modelo, X_train_pr, y_train, X_test_pr, y_test)"
      ],
      "metadata": {
        "colab": {
          "base_uri": "https://localhost:8080/",
          "height": 0
        },
        "id": "ye9y5-dmrAzD",
        "outputId": "b574bb20-81d2-43d7-bdf8-2af088a688f9"
      },
      "execution_count": 250,
      "outputs": [
        {
          "output_type": "stream",
          "name": "stdout",
          "text": [
            "Slope: [[-2.48404635e+02 -2.63213568e+01  8.64584109e+00 -6.67391642e+00\n",
            "  -1.41395789e+01  1.80911512e+00 -8.86840013e-02 -2.31075140e-02\n",
            "   2.00124014e-01  1.46636779e-01 -1.85263699e-01 -4.77378441e-01\n",
            "   1.38226362e-01 -4.87427913e-02 -4.06774752e-01 -1.71245273e+01\n",
            "   5.29972333e-01 -5.61565207e-02  1.62231996e+02  9.09027686e+00\n",
            "  -5.74051502e-01 -1.05478368e-01 -3.64817455e-02  4.87049793e-01\n",
            "   7.06431512e-01  1.23592510e+02  3.86528750e+01  1.39614686e+02\n",
            "   3.52055689e+00  1.28843521e+02 -7.49794467e+00 -2.80567857e-01\n",
            "  -1.38798451e+02 -6.45935745e+01 -5.21820481e-01 -5.47139461e-02\n",
            "  -8.22268787e-02 -8.17633611e-02 -3.61611100e-01 -1.13976795e+02\n",
            "  -2.48221524e+01 -1.20835017e+02 -3.14647243e+00 -1.20182472e+02\n",
            "   8.79245656e+01 -4.46650323e-01 -6.98647658e-03 -4.11659310e+02\n",
            "  -1.99822181e+01 -5.17253474e+01  1.29153680e+02  1.21913156e+02\n",
            "   3.06758403e-02 -4.77296294e-01 -2.79415616e-01  2.81329516e-01\n",
            "   1.53788417e+00 -2.62168833e-02  9.19147143e-07  6.18155624e+01\n",
            "  -2.96087371e+01  2.52617371e+01 -2.18730558e-01  1.18694723e+01\n",
            "  -1.10155642e-03 -5.88372084e-03 -9.94318490e-02  4.76054589e-02\n",
            "   6.16663355e-02  1.31218299e-04 -6.71825928e-01 -5.47063668e-02\n",
            "  -1.03410189e-01 -5.71757253e-01 -1.41599761e+00 -3.51529574e+02\n",
            "  -6.01297136e+01 -3.82364905e+02 -4.64271362e+00 -3.81778384e+02\n",
            "  -8.80116841e+01 -1.47198376e-02 -1.59845639e-01 -1.13488303e-01\n",
            "  -1.58362557e-01 -1.69545534e+01 -3.02764442e+00 -1.43831709e+01\n",
            "   2.47879232e-01 -1.94076292e+01 -1.05478985e+02 -1.06712744e-01\n",
            "  -8.94439579e-02 -1.53984311e-01 -4.00079551e+01 -1.17173852e+01\n",
            "  -4.64594889e+01 -3.55344576e+00 -5.79574160e+01 -1.73123794e+01\n",
            "   5.52688689e-01  6.93460954e-01  1.06459640e+02  2.26940418e+01\n",
            "   1.46435029e+02 -1.08010502e+00  1.28670666e+02 -7.02865982e+00\n",
            "   7.69798062e-01  9.58312426e+01  2.60818984e+01  9.50315416e+01\n",
            "   1.05137685e+00  1.04164238e+02 -1.49741608e+01 -2.15703533e+00\n",
            "   2.18770612e+00  1.13369052e+00 -1.87788926e+00  1.50947598e+00\n",
            "   2.73045172e-02 -2.66501728e+00 -1.41311475e+00  2.15921879e+00\n",
            "   2.84022599e-02 -5.35105356e-02 -1.67098645e+01  4.62962028e+01\n",
            "   1.22336821e+00  8.07430580e-03 -4.51065905e+01 -1.36338013e+00\n",
            "   1.12709835e-01 -1.21423899e+00 -7.00619360e-03  4.21150716e-04\n",
            "   8.45905161e+01 -2.04257572e+00  1.65236763e+00  1.34235369e-01\n",
            "  -1.49646513e+00 -5.16441827e-01 -2.13097593e+00  4.42592684e+00\n",
            "   2.80987944e+00 -4.82234403e+00  6.47471165e+00 -5.86486460e+00\n",
            "  -1.65261342e+00  5.76963659e+00 -1.59280493e-01 -5.35934998e-01\n",
            "   1.18496382e+01 -6.17134547e-01 -1.74911902e-01 -6.42966299e-02\n",
            "  -2.77956755e-01  2.17371606e-01  6.07117904e-01  6.70719412e-01\n",
            "   1.11789188e+01 -1.14314306e+01  8.25999351e+00 -4.67629973e+00\n",
            "   8.50295963e-01 -9.87044473e-03  7.09095994e-05 -1.12561166e+01\n",
            "   1.87489134e+01  1.38092581e+01 -5.89657949e+00 -2.65967932e+00\n",
            "   8.90899852e-03 -1.87767017e-02 -3.83146425e-02 -4.53892072e-03\n",
            "  -3.11390982e-02 -2.26503407e-05  5.13350052e-07  1.53767605e-01\n",
            "  -3.13904478e+00 -2.63535643e-01 -3.30974143e-01  4.02744272e-01\n",
            "  -1.17007983e-04  1.82684203e-04 -5.18722900e-03  1.62581464e-04\n",
            "  -3.52643455e-04  1.57764924e-06 -2.60725817e-01 -1.60485513e-01\n",
            "   1.68886671e-02  6.47327010e-01  2.13500803e-01  1.56687701e+01\n",
            "  -2.69248867e+01  1.48810251e+01  4.09316597e+01 -7.26322546e+00\n",
            "  -2.17427115e-01 -8.58403856e-02 -5.52736470e-01 -3.34691172e-01\n",
            "  -6.35993526e-01  1.03924109e+02 -8.51751957e+01 -1.34110048e+02\n",
            "   8.66879882e+01 -1.32046004e+02  1.69015992e+01 -2.76975526e-02\n",
            "   1.39104652e+00 -2.69990280e-01  8.65573005e+00  5.15352801e+00\n",
            "   1.62577480e+00 -9.04435246e-02 -2.50227041e+01  2.48825658e-01\n",
            "   4.75888194e-01 -6.68643151e-01  1.38827394e+01 -1.97793189e+01\n",
            "  -4.03324680e-02 -2.42521772e+01 -1.85113174e+00  3.55503852e-01\n",
            "  -8.38583337e-01 -6.96876410e+00  4.30908478e+00  7.10402120e+00\n",
            "   9.82906480e+00  1.32277148e+00 -5.18738363e-01  2.64910730e-02\n",
            "  -1.75851814e-02 -6.78579449e-02 -2.41040393e-02 -2.65148350e-02\n",
            "  -2.09748951e-04 -1.19143473e-03  2.95411808e-02  1.95651043e-02\n",
            "  -4.62424165e-03  1.85322088e-04 -7.80547480e-02  8.67927095e-01\n",
            "  -1.25304334e-01  4.99292851e-03 -8.31351506e-01 -3.19507077e-02\n",
            "  -9.10509332e-04  5.35397008e-02  5.42347054e-04 -4.56403738e-06\n",
            "  -7.25337216e-01 -2.06703569e+01  4.20429512e-01 -1.42602247e+00\n",
            "  -2.34116082e-01 -8.57409211e-01 -3.32021898e-01  3.77885142e-01\n",
            "   1.07629053e+01 -3.14332622e+01  8.02120453e+00  1.49943630e+01\n",
            "   7.97098528e+00 -4.03956472e-01  3.66969669e-03  3.74214695e-04\n",
            "   1.93268189e+01  1.44148014e+01 -1.17899451e+01 -1.03834328e+01\n",
            "   6.11975452e+00 -1.78401186e-02  2.15085484e-02  7.28044732e-02\n",
            "  -1.08232163e-02  3.23799137e-02 -9.49477994e-04 -1.48128447e-06\n",
            "   3.97114411e-01  1.28679039e+01  6.21270765e-01  5.53656933e-01\n",
            "  -1.37133897e+00  4.21527772e-04 -4.89101801e-05  3.50963910e-02\n",
            "   6.75058672e-04  7.36257532e-04  3.88501503e-06 -8.22421791e-01\n",
            "  -3.50696494e-01 -1.95322565e-01 -6.37823625e-01 -6.61932680e-01\n",
            "  -4.24885636e+01  6.18153825e+01 -2.33306105e+01 -2.92486593e+01\n",
            "   1.82785770e+01 -6.86432350e-01 -5.46907945e-02 -3.18099267e-01\n",
            "  -2.25561442e-01 -5.22536818e-01 -1.76029219e+02  1.90444020e+02\n",
            "  -7.52113361e+01  1.06454319e+02  8.76560180e+01 -4.22935063e+00\n",
            "  -5.16666599e-01  2.35342449e-01 -2.18732551e-01 -2.36457450e+00\n",
            "  -9.42537058e+00 -1.27032483e+01 -3.79020152e+00  2.65911627e+01\n",
            "  -4.99661860e-01  3.42531607e-01  4.68600103e-02 -1.08011765e+01\n",
            "   4.17743677e-01  1.17156247e+01  9.59754032e+00  1.26657771e+01\n",
            "  -1.35053143e+00 -1.69197013e+00  3.90571435e+01 -3.29373890e+01\n",
            "  -4.25796302e+00 -1.08285879e+01 -2.75833556e+01  1.38544969e+00\n",
            "  -2.59746175e-02  8.13729647e-03  2.18633376e-02 -3.78768026e-02\n",
            "  -1.99992935e-02 -1.47313334e-04  1.33711879e-02  5.09423502e-02\n",
            "   2.70535842e-02  5.23771545e-02 -8.03747261e-04  5.86855269e-02\n",
            "   4.59625387e-01  1.06387544e-01 -4.61875197e-02 -4.10276784e-01\n",
            "   3.22398302e-03  3.68546188e-04 -1.10684610e-02 -3.07458949e-04\n",
            "  -1.42596679e-07 -5.05766376e-04  2.20320166e-03  1.29444585e-02\n",
            "  -1.33499235e-02 -1.12813271e-02  1.73038617e-02 -1.10945815e-02\n",
            "   9.21884155e-04  2.46138733e-04  3.77052360e-04 -1.96180765e-05\n",
            "   7.12321044e-04  6.97859475e-05  3.80517342e-02 -2.30696215e-04\n",
            "   4.80180377e-04  6.27103749e-05  3.78727998e-04  1.53684399e-05\n",
            "  -2.27327351e-03 -1.80887379e-03 -1.76772091e-04 -1.15184856e-05\n",
            "   6.49235008e-04  2.37768735e-02 -5.30152958e+01 -1.10909693e+02\n",
            "   1.13702318e+01  2.94459966e+00  1.67332574e+00  1.05191622e-02\n",
            "   2.42570617e-03  3.22900343e-01 -2.73209418e-02 -7.32354610e-02\n",
            "   2.38901862e-04 -1.99821983e+01 -3.91787500e+01 -3.47336101e+01\n",
            "  -3.08482529e+01 -2.47295331e-03 -1.08769653e-02  6.46142186e-01\n",
            "  -1.03460246e-01 -5.01302640e-02 -2.58042857e-03  6.05705472e+00\n",
            "   1.40020112e+01  1.61219066e+00 -4.27810289e-03 -6.99951950e-03\n",
            "  -2.98338859e-02  2.76507742e-03  2.21407526e-02  2.37191848e-05\n",
            "   5.39027748e+00 -6.07498081e+00 -3.85932985e-03  2.11630551e-02\n",
            "  -7.03680279e-02  3.68436728e-02  5.04164554e-04 -4.10235538e-04\n",
            "   9.16072383e+00 -1.46137492e-02  3.51352442e-03 -9.83804665e-02\n",
            "  -2.01125360e-02  1.65039534e-02 -2.56129318e-04 -1.04070893e-03\n",
            "   2.00566664e-04 -4.30649954e-04  5.31572765e-05 -4.27554338e-04\n",
            "   5.49054847e-04  4.19812747e-05  2.04704249e-04  4.36438507e-05\n",
            "  -4.91181042e-04  3.84857233e-05  2.84534930e-04 -1.21788958e-03\n",
            "  -4.92325380e-04 -4.54544630e-05  1.04260872e-03  2.21804195e-05\n",
            "   1.21996942e-04  2.76052933e-05 -3.72504379e-04 -2.68540769e-03\n",
            "   5.36459765e-13  1.15145317e-06 -5.37921536e-06  7.95289328e-07\n",
            "   2.79573477e-07  2.04236299e-07 -3.80517346e-02 -3.80517344e-02\n",
            "  -2.50788479e-09 -1.70449255e-09  1.45100237e-09 -1.15942811e-11\n",
            "  -1.89997268e+00  3.74885743e-01 -2.25862276e-03 -4.17871785e-01\n",
            "   4.87729426e-01  6.12000478e-04 -8.38372155e-04 -3.18548888e-02\n",
            "  -7.30706806e-04  1.04044732e-03 -2.57102995e-07 -2.96087440e+01\n",
            "   4.97557567e+00 -4.88587493e+00  1.84981765e+00 -1.54795751e-03\n",
            "   2.02813488e-03  7.03330401e-03 -4.42671859e-03 -3.11434531e-04\n",
            "   4.44527757e-04 -3.57213956e-01 -1.09685137e-01  2.60753753e-02\n",
            "  -2.85045726e-04  3.35957917e-04 -1.25235833e-02 -3.29820120e-04\n",
            "   2.41704792e-05 -7.78929982e-07  1.79904230e-01 -5.40707790e-01\n",
            "   5.52735145e-04 -1.71303171e-04  8.78910735e-04 -1.26687709e-03\n",
            "   1.07920668e-04  9.01811523e-08  3.04701479e-01 -1.75197393e-04\n",
            "   2.00900972e-04 -6.99485010e-03  1.27715885e-05 -4.52888901e-05\n",
            "   2.85597003e-06  6.97720636e-05 -3.24997541e-04  1.80655573e-04\n",
            "   1.05298905e-05 -6.49978107e-04 -2.37768778e-02 -3.94401102e-04\n",
            "   1.83542942e-04  1.23973479e-05 -6.49927666e-04 -2.37768728e-02\n",
            "   5.63537086e-05  2.43950260e-05 -3.36979001e-05 -7.35503107e-08\n",
            "  -4.36493562e-05 -1.72271544e-06  1.68089187e-08  8.63472799e-07\n",
            "   1.91929672e-09 -2.68585154e-11  5.56827427e-01 -4.90980534e-02\n",
            "   6.34074663e-01 -1.59715675e+00 -1.02632680e-01  5.96919541e+01\n",
            "  -1.12707250e+02 -3.71087496e+01 -6.98438959e+00  7.46062768e+01\n",
            "  -3.89368057e-02 -5.47041382e-02 -1.48206591e-01 -2.19363832e-01\n",
            "  -4.09331194e-01  1.25481370e+01 -1.23457830e+02 -8.24159019e+01\n",
            "   2.56486995e+01  1.14852791e+01  1.29206988e+01  6.83666042e-01\n",
            "   1.72750995e-01 -1.66474614e-01  1.07779200e+01  5.92311836e-01\n",
            "  -1.50157242e+01  2.09073867e+01 -4.34800845e+00  7.17766733e-02\n",
            "   1.47364295e-01 -1.94857338e-01  5.20114012e+01 -4.90668015e+01\n",
            "  -1.98089055e+01 -5.78517506e+01 -1.20034411e+01  4.57559461e-01\n",
            "  -8.35522778e-01 -4.05274587e+01  4.22007845e+01  1.66850031e+01\n",
            "   1.01376302e+01  8.01796846e+00 -2.51102462e-01  5.99073515e-03\n",
            "   4.52701038e-03  1.35155904e-01 -6.55480269e-03  3.87259750e-03\n",
            "   8.97263544e-05 -2.10126028e-03  1.87744098e-01 -2.07661318e-02\n",
            "  -7.71081067e-02  1.49108360e-04  1.77828446e-01 -5.25751258e-01\n",
            "   1.45734744e-01  4.53245486e-02  6.09834921e-01 -5.41983633e-02\n",
            "   4.34539611e-03 -8.74631087e-03 -1.79178937e-04  2.20666383e-06\n",
            "  -1.47150706e-02 -1.59848970e-01 -1.13482643e-01 -1.58362532e-01\n",
            "  -1.69545531e+01 -3.02764523e+00 -1.43831685e+01  2.47876785e-01\n",
            "  -1.94076294e+01 -1.05478983e+02 -6.64112670e-01 -1.16636482e+00\n",
            "  -1.15267327e+00  2.31816891e+02 -2.70995641e+02 -2.51119702e+02\n",
            "  -1.35071517e+02 -2.79441476e+01  1.43753703e+01 -5.22158167e-01\n",
            "  -4.62506426e-01 -3.45801571e+01 -1.53453069e-01 -1.71216842e+02\n",
            "   8.38971363e+01  9.37922977e+01  1.78260002e+01 -1.08508134e+00\n",
            "   8.16247196e+01 -1.12472973e+02 -1.89233939e+02 -1.30351682e+02\n",
            "   6.38520990e+01 -1.14776359e+00 -2.41693049e-02  2.16963257e-02\n",
            "  -5.69408451e-01  8.47107175e-03  1.16988014e-01 -1.10139968e-02\n",
            "  -3.25732930e-02  1.21555064e+00 -1.11931316e-01 -1.67118258e-01\n",
            "   8.43347483e-03  1.39482090e+00 -2.98805427e+00 -3.22326776e-02\n",
            "   3.05879735e-02  3.40043694e+00  6.60180293e-02 -9.29308885e-04\n",
            "  -8.27734065e-02  2.95302231e-03 -6.85390622e-05  3.53329464e-01\n",
            "  -2.46934473e+00 -1.03113920e+00  1.35605222e+00  4.70100250e+00\n",
            "  -1.17520544e+00  1.87561056e+00 -4.10260370e+00  2.43447241e-01\n",
            "  -1.77987450e-01  1.22062178e+00  1.34175956e+01  5.84415520e-01\n",
            "  -1.29053169e+01 -3.15310922e+00 -1.68201345e+01  1.68179630e-01\n",
            "  -1.05463146e+00  5.09222985e+00 -3.48003919e+00  5.35218529e+00\n",
            "  -1.14813361e+00 -5.85473785e+00 -1.46553565e-01 -3.75480628e-03\n",
            "  -5.24214201e-04 -1.59811340e-02 -1.33162918e-02 -1.37674873e-02\n",
            "   5.00389803e-04 -6.47523856e-03 -1.38557608e-02  1.60813814e-02\n",
            "   3.59117826e-02 -4.75277343e-04  4.87980771e-02  6.37482837e-01\n",
            "   9.69249669e-02  8.83767750e-03 -5.97298225e-01 -1.91823345e-02\n",
            "  -2.10023752e-04 -5.31174114e-03 -2.31282633e-04 -1.52868429e-06\n",
            "   1.61476648e+00 -2.02683990e-01  7.83271181e+00 -2.44243433e+00\n",
            "   2.80613632e-01 -4.08894699e+01 -1.26047188e+01 -5.47003252e-02\n",
            "  -3.31901402e-01 -7.87657041e+00  1.80158960e+00  5.52103957e+00\n",
            "  -2.55114098e+01  4.04977065e+00  9.48107680e-01 -1.92278852e-02\n",
            "   1.53676706e-02 -1.07646981e-01  2.63692378e-02  2.51502412e-02\n",
            "  -4.77504062e-04  5.79514968e-03  3.72791311e-02  1.04744280e-02\n",
            "  -2.46481714e-02  6.85862546e-05 -7.34635660e-02 -6.76015840e-01\n",
            "  -5.73279639e-02  2.53435891e-03  9.13759650e-01  2.25156407e-03\n",
            "   1.31890614e-03  1.55650832e-02 -9.64712217e-04 -1.02279654e-06\n",
            "  -5.73937489e+00 -6.35553007e-01  9.79627685e+00 -3.64620452e+00\n",
            "  -5.36696375e+00 -3.06741080e+00 -2.78022980e-01  1.92197209e-03\n",
            "  -1.65387567e-02 -8.21592511e-03 -1.58790170e-02  8.41219868e-03\n",
            "   9.64282276e-05  2.00518819e-02 -9.01657559e-02 -4.23355535e-03\n",
            "   8.09522549e-03 -3.57964112e-04 -5.25192277e-02  1.67982969e-01\n",
            "  -8.18351712e-03  6.51790933e-03 -1.19528259e-01  6.79488480e-02\n",
            "   9.97948340e-08 -2.23435373e-02  5.27002141e-04  3.69228232e-06\n",
            "   6.32722489e-04  3.27609181e-04  1.32868724e-03  2.48229159e-05\n",
            "  -2.30192631e-04 -6.18241115e-04 -1.70581682e-04 -1.04469888e-03\n",
            "  -6.38621985e-06 -4.27513457e-04 -7.26496188e-04 -7.21426966e-04\n",
            "  -3.48185925e-04 -1.00799920e-03  4.67778758e-05  1.31017167e-03\n",
            "   2.73565735e-05 -1.22953699e-04 -9.52744132e-05  3.72373782e-04\n",
            "   2.68541277e-03  2.68511959e-04  1.14071255e-03  4.32138062e-05\n",
            "  -2.95130224e-04 -1.06954015e-04  5.74460540e-04 -8.74453025e-04\n",
            "  -1.97117185e-04  8.59069339e-05 -3.10915584e-04 -1.55651235e-05\n",
            "  -1.22047910e-04 -9.14332291e-05  3.73882048e-04  2.68541694e-03\n",
            "   5.87633440e-03 -2.29112368e-02 -7.04209488e-04  1.18189368e-06\n",
            "   2.13006962e-02  7.66540118e-04 -2.97115772e-05  6.14408349e-04\n",
            "   5.83046480e-06 -2.11169667e-07  6.90837209e-04 -2.23524691e-04\n",
            "  -3.08520524e-05 -1.93207092e-05 -5.53105863e-08 -8.60273985e-09\n",
            "   2.70908479e-05 -7.35056930e-07 -1.12760787e-08 -4.21329638e-12]]\n",
            "Intercept: [20339671.84667025]\n",
            "\n",
            "Error medio Absoluto (MAE): 123206.47837547593\n",
            "Root Mean Squared Error: 198784.3024849748\n",
            "r2_score 0.7491868615308384\n"
          ]
        }
      ]
    },
    {
      "cell_type": "code",
      "source": [
        "#Ridge\n",
        "modelo = Ridge(alpha=1, fit_intercept=True)\n",
        "useModel(modelo, X_train, y_train, X_test, y_test)"
      ],
      "metadata": {
        "colab": {
          "base_uri": "https://localhost:8080/",
          "height": 0
        },
        "id": "gUaJObkUjcI_",
        "outputId": "8a157bf5-5f72-48b5-aa95-b4bb948540a9"
      },
      "execution_count": 251,
      "outputs": [
        {
          "output_type": "stream",
          "name": "stdout",
          "text": [
            "Slope: [[-3.82192265e+04  4.14509656e+04  1.08013951e+02  1.69318239e-02\n",
            "   3.16891574e+04  5.48258333e+05  4.14559235e+04  2.12264347e+04\n",
            "   1.19470568e+05  4.78066878e+01  6.02065605e+01 -3.55050129e+03\n",
            "   1.33171890e+01  2.89851987e+01 -5.47998512e-01]]\n",
            "Intercept: [6150751.3836867]\n",
            "\n",
            "Error medio Absoluto (MAE): 137491.0433940327\n",
            "Root Mean Squared Error: 232165.2426647754\n",
            "r2_score 0.6578783840295006\n"
          ]
        }
      ]
    },
    {
      "cell_type": "code",
      "source": [
        "#Lasso\n",
        "modelo = Lasso(alpha=1, fit_intercept=True)\n",
        "useModel(modelo, X_train, y_train, X_test, y_test)"
      ],
      "metadata": {
        "colab": {
          "base_uri": "https://localhost:8080/",
          "height": 0
        },
        "id": "CNTJ94GcjiyG",
        "outputId": "9c673b8a-8d97-4039-a30a-579d81ada087"
      },
      "execution_count": 255,
      "outputs": [
        {
          "output_type": "stream",
          "name": "stdout",
          "text": [
            "Slope: [-3.81995345e+04  4.14618568e+04  2.93480482e+02  1.71281822e-02\n",
            "  3.16871411e+04  5.52541108e+05  4.12549654e+04  2.12193902e+04\n",
            "  1.19491837e+05 -1.37708200e+02 -1.25268449e+02 -3.55085005e+03\n",
            "  1.32628460e+01  2.90053298e+01 -5.48136075e-01]\n",
            "Intercept: [6151280.11390041]\n",
            "\n",
            "Error medio Absoluto (MAE): 137480.57154885164\n",
            "Root Mean Squared Error: 232134.527538022\n",
            "r2_score 0.6579689024340813\n"
          ]
        },
        {
          "output_type": "stream",
          "name": "stderr",
          "text": [
            "/usr/local/lib/python3.7/dist-packages/sklearn/linear_model/_coordinate_descent.py:648: ConvergenceWarning: Objective did not converge. You might want to increase the number of iterations, check the scale of the features or consider increasing regularisation. Duality gap: 4.053e+14, tolerance: 2.572e+11\n",
            "  coef_, l1_reg, l2_reg, X, y, max_iter, tol, rng, random, positive\n"
          ]
        }
      ]
    },
    {
      "cell_type": "markdown",
      "source": [
        "![image.png](data:image/png;base64,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)"
      ],
      "metadata": {
        "id": "kyKTsu3VyDIL"
      }
    },
    {
      "cell_type": "markdown",
      "source": [
        "Conclusiones:\n",
        "El % de entrenamiento es del 90%, tal vez es muy alto lo que provoca baja precision.\n",
        "\n",
        "No se tiene demasiada informacion para saber si los datos estan sobre o sub entrenados, tal vez diferentes valores del parámetro alpha den mejores resultados.\n",
        "\n",
        "Para este caso, el mejor modelo volvio a ser el polinomial, con los errores más pequeños y con la R2 más grande."
      ],
      "metadata": {
        "id": "PxsQxfzIyPDL"
      }
    }
  ]
}